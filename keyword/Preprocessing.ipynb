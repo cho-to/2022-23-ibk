{
 "cells": [
  {
   "cell_type": "code",
   "execution_count": 2,
   "id": "b6f8f4fc",
   "metadata": {},
   "outputs": [
    {
     "name": "stdout",
     "output_type": "stream",
     "text": [
      "2일 한국거래소에 따르면 유가증권시장 상장사 강원랜드와 GKL의 주가는 지난해 9월부터 지난달 30일까지 각각 15.67%, 28.65% 하락했다. 같은 기간 코스피지수 변동률 감소7.40%보다 낙폭이 더 컸다. 코스닥시장의 파라다이스 주가 역시 같은기간 39.95% 급락했다. 힘빠진 카지노주, 새해엔 잭팟 터질까\n"
     ]
    }
   ],
   "source": [
    "import json\n",
    "\n",
    "with open('/home/work/nlp/keyword/2006-01-01_2022-10-31_keyword.json', 'r') as f:\n",
    "    keyword = json.load(f)\n",
    "\n",
    "print(keyword['2015-01-02'])"
   ]
  },
  {
   "cell_type": "code",
   "execution_count": 3,
   "id": "45430c78",
   "metadata": {},
   "outputs": [],
   "source": [
    "#eliminating unnecessary words\n",
    "new_keyword = {}\n",
    "\n",
    "for key, item in keyword.items():\n",
    "    \n",
    "    if '본문 이미지 영역' in item:\n",
    "        item = item.replace('본문 이미지 영역', '')\n",
    "    if '(서울=연합뉴스)' in item:\n",
    "        item = item.replace('(서울=연합뉴스)', '')\n",
    "    if '(서울=뉴스1)' in item:\n",
    "        item = item.replace('(서울=뉴스1)', '')\n",
    "    if '【서울=뉴시스】' in item:\n",
    "        item = item.replace('【서울=뉴시스】', '')\n",
    "    if '【베이징=신화/뉴시스】' in item:\n",
    "        item = item.replace('【베이징=신화/뉴시스】', '')\n",
    "    if '(현지시간)' in item:\n",
    "        item = item.replace('(현지시간)', '')\n",
    "    if '◆' in item:\n",
    "        item = item.replace('◆', '')\n",
    "    \n",
    "    new_keyword[key] = item"
   ]
  },
  {
   "cell_type": "code",
   "execution_count": 4,
   "id": "f2a5c1ab",
   "metadata": {},
   "outputs": [
    {
     "data": {
      "text/plain": [
       "\"'시대 역행' 삼성생명·화재...주주환원 축소, 왜?\""
      ]
     },
     "execution_count": 4,
     "metadata": {},
     "output_type": "execute_result"
    }
   ],
   "source": [
    "new_keyword['2015-02-17']"
   ]
  },
  {
   "cell_type": "code",
   "execution_count": 5,
   "id": "72d4cbfd",
   "metadata": {},
   "outputs": [],
   "source": [
    "with open(\"2006-01-01_2022-10-31_keyword.json\", 'w') as outfile:\n",
    "    json.dump(new_keyword, outfile, ensure_ascii=False)"
   ]
  },
  {
   "cell_type": "code",
   "execution_count": null,
   "id": "562211c0",
   "metadata": {},
   "outputs": [],
   "source": []
  }
 ],
 "metadata": {
  "kernelspec": {
   "display_name": "PyTorch 1.13 (NGC 22.05/Python 3.8 Conda) on Backend.AI",
   "language": "python",
   "name": "python3"
  },
  "language_info": {
   "codemirror_mode": {
    "name": "ipython",
    "version": 3
   },
   "file_extension": ".py",
   "mimetype": "text/x-python",
   "name": "python",
   "nbconvert_exporter": "python",
   "pygments_lexer": "ipython3",
   "version": "3.8.13"
  }
 },
 "nbformat": 4,
 "nbformat_minor": 5
}
