{
 "cells": [
  {
   "cell_type": "code",
   "execution_count": 17,
   "id": "8fc91c16",
   "metadata": {},
   "outputs": [],
   "source": [
    "import gensim\n",
    "from gensim.models.doc2vec import Doc2Vec, TaggedDocument\n",
    "from konlpy.tag import Mecab\n",
    "\n",
    "m1 = gensim.models.Doc2Vec.load('/home/work/nlp/embedding/news_128_v2.doc2vec')\n",
    "m2 = gensim.models.Doc2Vec.load('/home/work/nlp/embedding/news_256_v2.doc2vec')"
   ]
  },
  {
   "cell_type": "code",
   "execution_count": 20,
   "id": "499a2a54",
   "metadata": {},
   "outputs": [
    {
     "name": "stdout",
     "output_type": "stream",
     "text": [
      "[('[일일펀드동향] 국내 채권형펀드 2거래일간 3400억원 순유입', 0.5702300071716309), ('[일일펀드동향] 국내 주식형 펀드, 7거래일간 1459억원 순유입', 0.5676993131637573), ('이 엄동설한에… 증시는 뜨겁다, 너무 뜨겁다', 0.5652467012405396)]\n",
      "[('[일일펀드동향]국내 채권형펀드 하루새 8900억원 순유입', 0.5335774421691895), ('[시황종합] 코스피 이틀째 상승…2240선 근접', 0.5249907970428467), ('[일일펀드동향]韓주식형펀드, 3거래일간 1300억원 순유입', 0.5135812759399414)]\n"
     ]
    }
   ],
   "source": [
    "mecab = Mecab()\n",
    "\n",
    "text = '[오전시황] ‘실적 충격에도 전망은 밝다’ 삼전·하닉 상승에 코스피 0.5% 상승'\n",
    "inferred_v1 = m1.infer_vector(mecab.morphs(text))\n",
    "inferred_v2 = m2.infer_vector(mecab.morphs(text))\n",
    "\n",
    "print(m1.docvecs.most_similar(positive=[inferred_v1], topn=3))\n",
    "print(m2.docvecs.most_similar(positive=[inferred_v2], topn=3))"
   ]
  }
 ],
 "metadata": {
  "kernelspec": {
   "display_name": "PyTorch 1.13 (NGC 22.05/Python 3.8 Conda) on Backend.AI",
   "language": "python",
   "name": "python3"
  },
  "language_info": {
   "codemirror_mode": {
    "name": "ipython",
    "version": 3
   },
   "file_extension": ".py",
   "mimetype": "text/x-python",
   "name": "python",
   "nbconvert_exporter": "python",
   "pygments_lexer": "ipython3",
   "version": "3.8.13"
  }
 },
 "nbformat": 4,
 "nbformat_minor": 5
}
