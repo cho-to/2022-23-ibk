{
 "cells": [
  {
   "cell_type": "code",
   "execution_count": 2,
   "id": "08c81935",
   "metadata": {
    "scrolled": true
   },
   "outputs": [],
   "source": [
    "import pandas as pd\n",
    "from konlpy.tag import Mecab\n",
    "from gensim.models.doc2vec import TaggedDocument\n",
    "from tqdm import tqdm"
   ]
  },
  {
   "cell_type": "code",
   "execution_count": 3,
   "id": "328430dc",
   "metadata": {},
   "outputs": [],
   "source": [
    "mecab = Mecab()\n",
    "tagged_corpus_list = []"
   ]
  },
  {
   "cell_type": "code",
   "execution_count": 4,
   "id": "1aa69d3a",
   "metadata": {},
   "outputs": [],
   "source": [
    "import json\n",
    "news_json = open('/home/work/nlp/Data_Crawling/2012-01-01_2022-12-31_title.json', encoding='utf-8')\n",
    "news = json.load(news_json)"
   ]
  },
  {
   "cell_type": "code",
   "execution_count": 5,
   "id": "af9cd0f8",
   "metadata": {},
   "outputs": [],
   "source": [
    "for key, val in news.items():\n",
    "    tagged_corpus_list.append(TaggedDocument(words=mecab.morphs(val), tags=[key]))"
   ]
  },
  {
   "cell_type": "code",
   "execution_count": 6,
   "id": "d1ec898a",
   "metadata": {},
   "outputs": [],
   "source": [
    "from gensim.models import doc2vec\n",
    "\n",
    "model1 = doc2vec.Doc2Vec(vector_size=128, alpha=0.025, min_alpha=0.025, workers=8, window=8)\n",
    "model2 = doc2vec.Doc2Vec(vector_size=256, alpha=0.025, min_alpha=0.025, workers=8, window=8)"
   ]
  },
  {
   "cell_type": "code",
   "execution_count": 7,
   "id": "7c641515",
   "metadata": {},
   "outputs": [],
   "source": [
    "model1.build_vocab(tagged_corpus_list)\n",
    "model2.build_vocab(tagged_corpus_list)"
   ]
  },
  {
   "cell_type": "code",
   "execution_count": 8,
   "id": "b32a708c",
   "metadata": {},
   "outputs": [],
   "source": [
    "model1.train(tagged_corpus_list, total_examples=model1.corpus_count, epochs=50)\n",
    "model1.save('news_128_v2.doc2vec')\n",
    "\n",
    "model2.train(tagged_corpus_list, total_examples=model2.corpus_count, epochs=50)\n",
    "model2.save('news_256_v2.doc2vec')"
   ]
  }
 ],
 "metadata": {
  "kernelspec": {
   "display_name": "PyTorch 1.13 (NGC 22.05/Python 3.8 Conda) on Backend.AI",
   "language": "python",
   "name": "python3"
  },
  "language_info": {
   "codemirror_mode": {
    "name": "ipython",
    "version": 3
   },
   "file_extension": ".py",
   "mimetype": "text/x-python",
   "name": "python",
   "nbconvert_exporter": "python",
   "pygments_lexer": "ipython3",
   "version": "3.8.13"
  }
 },
 "nbformat": 4,
 "nbformat_minor": 5
}
