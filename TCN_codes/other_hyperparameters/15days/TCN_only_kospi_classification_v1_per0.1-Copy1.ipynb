{
 "cells": [
  {
   "cell_type": "code",
   "execution_count": 1,
   "id": "6c654451",
   "metadata": {},
   "outputs": [
    {
     "name": "stdout",
     "output_type": "stream",
     "text": [
      "Defaulting to user installation because normal site-packages is not writeable\n",
      "Looking in indexes: https://pypi.org/simple, https://pypi.ngc.nvidia.com\n",
      "Requirement already satisfied: keras-tcn in /home/work/.local/lib/python3.8/site-packages (3.5.0)\n",
      "Collecting tensorflow-addons\n",
      "  Downloading tensorflow_addons-0.19.0-cp38-cp38-manylinux_2_17_x86_64.manylinux2014_x86_64.whl (1.1 MB)\n",
      "\u001b[K     |████████████████████████████████| 1.1 MB 14.6 MB/s eta 0:00:01\n",
      "\u001b[?25hRequirement already satisfied: numpy in /opt/conda/lib/python3.8/site-packages (from keras-tcn) (1.22.3)\n",
      "Requirement already satisfied: tensorflow in /home/work/.local/lib/python3.8/site-packages (from keras-tcn) (2.11.0)\n",
      "Requirement already satisfied: keras<2.12,>=2.11.0 in /home/work/.local/lib/python3.8/site-packages (from tensorflow->keras-tcn) (2.11.0)\n",
      "Requirement already satisfied: opt-einsum>=2.3.2 in /opt/conda/lib/python3.8/site-packages (from tensorflow->keras-tcn) (3.2.0)\n",
      "Requirement already satisfied: tensorflow-io-gcs-filesystem>=0.23.1 in /home/work/.local/lib/python3.8/site-packages (from tensorflow->keras-tcn) (0.29.0)\n",
      "Requirement already satisfied: setuptools in /opt/conda/lib/python3.8/site-packages (from tensorflow->keras-tcn) (59.5.0)\n",
      "Requirement already satisfied: google-pasta>=0.1.1 in /opt/conda/lib/python3.8/site-packages (from tensorflow->keras-tcn) (0.1.8)\n",
      "Requirement already satisfied: libclang>=13.0.0 in /home/work/.local/lib/python3.8/site-packages (from tensorflow->keras-tcn) (14.0.6)\n",
      "Requirement already satisfied: tensorflow-estimator<2.12,>=2.11.0 in /home/work/.local/lib/python3.8/site-packages (from tensorflow->keras-tcn) (2.11.0)\n",
      "Requirement already satisfied: wrapt>=1.11.0 in /opt/conda/lib/python3.8/site-packages (from tensorflow->keras-tcn) (1.14.1)\n",
      "Requirement already satisfied: absl-py>=1.0.0 in /home/work/.local/lib/python3.8/site-packages (from tensorflow->keras-tcn) (1.3.0)\n",
      "Requirement already satisfied: termcolor>=1.1.0 in /opt/conda/lib/python3.8/site-packages (from tensorflow->keras-tcn) (1.1.0)\n",
      "Requirement already satisfied: typing-extensions>=3.6.6 in /opt/conda/lib/python3.8/site-packages (from tensorflow->keras-tcn) (4.2.0)\n",
      "Requirement already satisfied: packaging in /opt/conda/lib/python3.8/site-packages (from tensorflow->keras-tcn) (21.3)\n",
      "Requirement already satisfied: six>=1.12.0 in /opt/conda/lib/python3.8/site-packages (from tensorflow->keras-tcn) (1.16.0)\n",
      "Requirement already satisfied: h5py>=2.9.0 in /opt/conda/lib/python3.8/site-packages (from tensorflow->keras-tcn) (2.10.0)\n",
      "Requirement already satisfied: protobuf<3.20,>=3.9.2 in /home/work/.local/lib/python3.8/site-packages (from tensorflow->keras-tcn) (3.19.6)\n",
      "Requirement already satisfied: tensorboard<2.12,>=2.11 in /home/work/.local/lib/python3.8/site-packages (from tensorflow->keras-tcn) (2.11.0)\n",
      "Requirement already satisfied: flatbuffers>=2.0 in /home/work/.local/lib/python3.8/site-packages (from tensorflow->keras-tcn) (22.12.6)\n",
      "Requirement already satisfied: gast<=0.4.0,>=0.2.1 in /home/work/.local/lib/python3.8/site-packages (from tensorflow->keras-tcn) (0.4.0)\n",
      "Requirement already satisfied: grpcio<2.0,>=1.24.3 in /opt/conda/lib/python3.8/site-packages (from tensorflow->keras-tcn) (1.44.0)\n",
      "Requirement already satisfied: astunparse>=1.6.0 in /home/work/.local/lib/python3.8/site-packages (from tensorflow->keras-tcn) (1.6.3)\n",
      "Requirement already satisfied: wheel<1.0,>=0.23.0 in /opt/conda/lib/python3.8/site-packages (from astunparse>=1.6.0->tensorflow->keras-tcn) (0.37.1)\n",
      "Requirement already satisfied: markdown>=2.6.8 in /opt/conda/lib/python3.8/site-packages (from tensorboard<2.12,>=2.11->tensorflow->keras-tcn) (3.3.7)\n",
      "Requirement already satisfied: werkzeug>=1.0.1 in /opt/conda/lib/python3.8/site-packages (from tensorboard<2.12,>=2.11->tensorflow->keras-tcn) (2.0.3)\n",
      "Requirement already satisfied: tensorboard-data-server<0.7.0,>=0.6.0 in /opt/conda/lib/python3.8/site-packages (from tensorboard<2.12,>=2.11->tensorflow->keras-tcn) (0.6.1)\n",
      "Requirement already satisfied: google-auth-oauthlib<0.5,>=0.4.1 in /opt/conda/lib/python3.8/site-packages (from tensorboard<2.12,>=2.11->tensorflow->keras-tcn) (0.4.6)\n",
      "Requirement already satisfied: google-auth<3,>=1.6.3 in /opt/conda/lib/python3.8/site-packages (from tensorboard<2.12,>=2.11->tensorflow->keras-tcn) (1.34.0)\n",
      "Requirement already satisfied: requests<3,>=2.21.0 in /opt/conda/lib/python3.8/site-packages (from tensorboard<2.12,>=2.11->tensorflow->keras-tcn) (2.27.1)\n",
      "Requirement already satisfied: tensorboard-plugin-wit>=1.6.0 in /opt/conda/lib/python3.8/site-packages (from tensorboard<2.12,>=2.11->tensorflow->keras-tcn) (1.8.1)\n",
      "Requirement already satisfied: pyasn1-modules>=0.2.1 in /opt/conda/lib/python3.8/site-packages (from google-auth<3,>=1.6.3->tensorboard<2.12,>=2.11->tensorflow->keras-tcn) (0.2.8)\n",
      "Requirement already satisfied: rsa<5,>=3.1.4 in /opt/conda/lib/python3.8/site-packages (from google-auth<3,>=1.6.3->tensorboard<2.12,>=2.11->tensorflow->keras-tcn) (4.8)\n",
      "Requirement already satisfied: cachetools<5.0,>=2.0.0 in /opt/conda/lib/python3.8/site-packages (from google-auth<3,>=1.6.3->tensorboard<2.12,>=2.11->tensorflow->keras-tcn) (4.2.2)\n",
      "Requirement already satisfied: requests-oauthlib>=0.7.0 in /opt/conda/lib/python3.8/site-packages (from google-auth-oauthlib<0.5,>=0.4.1->tensorboard<2.12,>=2.11->tensorflow->keras-tcn) (1.3.1)\n",
      "Requirement already satisfied: importlib-metadata>=4.4 in /opt/conda/lib/python3.8/site-packages (from markdown>=2.6.8->tensorboard<2.12,>=2.11->tensorflow->keras-tcn) (4.11.4)\n",
      "Requirement already satisfied: zipp>=0.5 in /opt/conda/lib/python3.8/site-packages (from importlib-metadata>=4.4->markdown>=2.6.8->tensorboard<2.12,>=2.11->tensorflow->keras-tcn) (3.8.1)\n",
      "Requirement already satisfied: pyasn1<0.5.0,>=0.4.6 in /opt/conda/lib/python3.8/site-packages (from pyasn1-modules>=0.2.1->google-auth<3,>=1.6.3->tensorboard<2.12,>=2.11->tensorflow->keras-tcn) (0.4.8)\n",
      "Requirement already satisfied: certifi>=2017.4.17 in /opt/conda/lib/python3.8/site-packages (from requests<3,>=2.21.0->tensorboard<2.12,>=2.11->tensorflow->keras-tcn) (2022.6.15)\n",
      "Requirement already satisfied: urllib3<1.27,>=1.21.1 in /opt/conda/lib/python3.8/site-packages (from requests<3,>=2.21.0->tensorboard<2.12,>=2.11->tensorflow->keras-tcn) (1.25.11)\n",
      "Requirement already satisfied: idna<4,>=2.5 in /opt/conda/lib/python3.8/site-packages (from requests<3,>=2.21.0->tensorboard<2.12,>=2.11->tensorflow->keras-tcn) (3.2)\n",
      "Requirement already satisfied: charset-normalizer~=2.0.0 in /opt/conda/lib/python3.8/site-packages (from requests<3,>=2.21.0->tensorboard<2.12,>=2.11->tensorflow->keras-tcn) (2.0.12)\n",
      "Requirement already satisfied: oauthlib>=3.0.0 in /opt/conda/lib/python3.8/site-packages (from requests-oauthlib>=0.7.0->google-auth-oauthlib<0.5,>=0.4.1->tensorboard<2.12,>=2.11->tensorflow->keras-tcn) (3.2.0)\n",
      "Requirement already satisfied: pyparsing!=3.0.5,>=2.0.2 in /opt/conda/lib/python3.8/site-packages (from packaging->tensorflow->keras-tcn) (3.0.8)\n",
      "Requirement already satisfied: typeguard>=2.7 in /opt/conda/lib/python3.8/site-packages (from tensorflow-addons->keras-tcn) (2.13.3)\n",
      "Installing collected packages: tensorflow-addons\n",
      "Successfully installed tensorflow-addons-0.19.0\n",
      "Defaulting to user installation because normal site-packages is not writeable\n",
      "Looking in indexes: https://pypi.org/simple, https://pypi.ngc.nvidia.com\n",
      "Requirement already satisfied: finance-datareader in /home/work/.local/lib/python3.8/site-packages (0.9.50)\n",
      "Requirement already satisfied: lxml in /opt/conda/lib/python3.8/site-packages (from finance-datareader) (4.9.1)\n",
      "Requirement already satisfied: requests>=2.3.0 in /opt/conda/lib/python3.8/site-packages (from finance-datareader) (2.27.1)\n",
      "Requirement already satisfied: tqdm in /opt/conda/lib/python3.8/site-packages (from finance-datareader) (4.64.0)\n",
      "Requirement already satisfied: requests-file in /home/work/.local/lib/python3.8/site-packages (from finance-datareader) (1.5.1)\n",
      "Requirement already satisfied: pandas>=0.19.2 in /home/work/.local/lib/python3.8/site-packages (from finance-datareader) (1.5.2)\n",
      "Requirement already satisfied: numpy>=1.20.3 in /opt/conda/lib/python3.8/site-packages (from pandas>=0.19.2->finance-datareader) (1.22.3)\n",
      "Requirement already satisfied: python-dateutil>=2.8.1 in /opt/conda/lib/python3.8/site-packages (from pandas>=0.19.2->finance-datareader) (2.8.2)\n",
      "Requirement already satisfied: pytz>=2020.1 in /opt/conda/lib/python3.8/site-packages (from pandas>=0.19.2->finance-datareader) (2022.1)\n",
      "Requirement already satisfied: six>=1.5 in /opt/conda/lib/python3.8/site-packages (from python-dateutil>=2.8.1->pandas>=0.19.2->finance-datareader) (1.16.0)\n"
     ]
    },
    {
     "name": "stdout",
     "output_type": "stream",
     "text": [
      "Requirement already satisfied: urllib3<1.27,>=1.21.1 in /opt/conda/lib/python3.8/site-packages (from requests>=2.3.0->finance-datareader) (1.25.11)\r\n",
      "Requirement already satisfied: certifi>=2017.4.17 in /opt/conda/lib/python3.8/site-packages (from requests>=2.3.0->finance-datareader) (2022.6.15)\r\n",
      "Requirement already satisfied: idna<4,>=2.5 in /opt/conda/lib/python3.8/site-packages (from requests>=2.3.0->finance-datareader) (3.2)\r\n",
      "Requirement already satisfied: charset-normalizer~=2.0.0 in /opt/conda/lib/python3.8/site-packages (from requests>=2.3.0->finance-datareader) (2.0.12)\r\n"
     ]
    }
   ],
   "source": [
    "!pip install keras-tcn\n",
    "!pip install -U finance-datareader"
   ]
  },
  {
   "cell_type": "code",
   "execution_count": 2,
   "id": "13ffe65e",
   "metadata": {},
   "outputs": [
    {
     "name": "stderr",
     "output_type": "stream",
     "text": [
      "/home/work/.local/lib/python3.8/site-packages/pandas/core/computation/expressions.py:20: UserWarning: Pandas requires version '2.7.3' or newer of 'numexpr' (version '2.7.0' currently installed).\n",
      "  from pandas.core.computation.check import NUMEXPR_INSTALLED\n",
      "2023-02-03 06:49:06.920439: I tensorflow/core/platform/cpu_feature_guard.cc:193] This TensorFlow binary is optimized with oneAPI Deep Neural Network Library (oneDNN) to use the following CPU instructions in performance-critical operations:  AVX2 AVX512F AVX512_VNNI FMA\n",
      "To enable them in other operations, rebuild TensorFlow with the appropriate compiler flags.\n",
      "2023-02-03 06:49:07.191623: I tensorflow/core/util/port.cc:104] oneDNN custom operations are on. You may see slightly different numerical results due to floating-point round-off errors from different computation orders. To turn them off, set the environment variable `TF_ENABLE_ONEDNN_OPTS=0`.\n",
      "2023-02-03 06:49:10.744780: W tensorflow/compiler/xla/stream_executor/platform/default/dso_loader.cc:64] Could not load dynamic library 'libnvinfer.so.7'; dlerror: libnvinfer.so.7: cannot open shared object file: No such file or directory; LD_LIBRARY_PATH: /usr/local/cuda/compat/lib:/usr/local/cuda/extras/CUPTI/lib64:/usr/local/cuda/lib:/usr/local/cuda/lib64:/usr/local/nvidia/lib64:/usr/local/cuda-11.6/include:/usr/include/x86_64-linux-gnu:/opt/conda/lib/python3.8/site-packages/torch/lib:/opt/conda/lib/python3.8/site-packages/torch_tensorrt/lib:/usr/local/cuda/compat/lib:/usr/local/nvidia/lib:/usr/local/nvidia/lib64\n",
      "2023-02-03 06:49:10.745017: W tensorflow/compiler/xla/stream_executor/platform/default/dso_loader.cc:64] Could not load dynamic library 'libnvinfer_plugin.so.7'; dlerror: libnvinfer_plugin.so.7: cannot open shared object file: No such file or directory; LD_LIBRARY_PATH: /usr/local/cuda/compat/lib:/usr/local/cuda/extras/CUPTI/lib64:/usr/local/cuda/lib:/usr/local/cuda/lib64:/usr/local/nvidia/lib64:/usr/local/cuda-11.6/include:/usr/include/x86_64-linux-gnu:/opt/conda/lib/python3.8/site-packages/torch/lib:/opt/conda/lib/python3.8/site-packages/torch_tensorrt/lib:/usr/local/cuda/compat/lib:/usr/local/nvidia/lib:/usr/local/nvidia/lib64\n",
      "2023-02-03 06:49:10.745041: W tensorflow/compiler/tf2tensorrt/utils/py_utils.cc:38] TF-TRT Warning: Cannot dlopen some TensorRT libraries. If you would like to use Nvidia GPU with TensorRT, please make sure the missing libraries mentioned above are installed properly.\n"
     ]
    }
   ],
   "source": [
    "import numpy as np\n",
    "import pandas as pd\n",
    "import FinanceDataReader as fdr\n",
    "from tensorflow.keras import Sequential\n",
    "from tensorflow.keras.layers import Dense\n",
    "from tcn import TCN"
   ]
  },
  {
   "cell_type": "code",
   "execution_count": 3,
   "id": "452f7f0f",
   "metadata": {},
   "outputs": [
    {
     "name": "stdout",
     "output_type": "stream",
     "text": [
      "                  Open        High         Low       Close   Adj Close  \\\n",
      "Date                                                                     \n",
      "1996-12-11  705.989990  709.479980  704.429993  704.679993  704.679993   \n",
      "1996-12-12  705.109985  706.010010  688.739990  689.380005  689.380005   \n",
      "1996-12-13  690.440002  695.719971  677.640015  689.070007  689.070007   \n",
      "1996-12-16  686.969971  686.969971  667.710022  673.919983  673.919983   \n",
      "1996-12-17  675.349976  680.090027  660.390015  663.349976  663.349976   \n",
      "\n",
      "             Volume   Change1  Change7  Change15  Change30  \n",
      "Date                                                        \n",
      "1996-12-11  28000.0       NaN      NaN       NaN       NaN  \n",
      "1996-12-12  25900.0 -0.021712      NaN       NaN       NaN  \n",
      "1996-12-13  26500.0 -0.000450      NaN       NaN       NaN  \n",
      "1996-12-16  22800.0 -0.021986      NaN       NaN       NaN  \n",
      "1996-12-17  31600.0 -0.015684      NaN       NaN       NaN  \n",
      "Index(['Open', 'High', 'Low', 'Close', 'Adj Close', 'Volume', 'Change1',\n",
      "       'Change7', 'Change15', 'Change30'],\n",
      "      dtype='object')\n"
     ]
    }
   ],
   "source": [
    "kospi_train = fdr.DataReader('KS11', '1990-01-01','2017-12-31')\n",
    "kospi_train['Change1'] = kospi_train['Close']/kospi_train['Close'].shift(1) - 1\n",
    "kospi_train['Change7'] = kospi_train['Close']/kospi_train['Close'].shift(7) - 1\n",
    "kospi_train['Change15'] = kospi_train['Close']/kospi_train['Close'].shift(15) - 1\n",
    "kospi_train['Change30'] = kospi_train['Close']/kospi_train['Close'].shift(30) - 1\n",
    "print(kospi_train.head())\n",
    "print(kospi_train.columns)"
   ]
  },
  {
   "cell_type": "code",
   "execution_count": 4,
   "id": "2415e080",
   "metadata": {},
   "outputs": [
    {
     "name": "stdout",
     "output_type": "stream",
     "text": [
      "                  Open        High         Low       Close   Adj Close  \\\n",
      "Date                                                                     \n",
      "1997-01-24  669.030029  679.559998  658.179993  679.559998  679.559998   \n",
      "1997-01-27  684.309998  685.460022  664.679993  664.700012  664.700012   \n",
      "1997-01-28  661.659973  677.630005  653.419983  662.849976  662.849976   \n",
      "1997-01-29  663.330017  672.900024  654.950012  663.559998  663.559998   \n",
      "1997-01-30  663.650024  679.039978  662.270020  676.520020  676.520020   \n",
      "\n",
      "             Volume   Change1   Change7  Change15  Change30  \n",
      "Date                                                         \n",
      "1997-01-24  35500.0  0.003915 -0.028867  0.039416 -0.013801  \n",
      "1997-01-27  28300.0 -0.021867 -0.066249  0.060347 -0.013681  \n",
      "1997-01-28  30400.0 -0.002783 -0.054665  0.084772 -0.000754  \n",
      "1997-01-29  30200.0  0.001071 -0.076413  0.067830  0.003281  \n",
      "1997-01-30  28800.0  0.019531 -0.020303  0.057277 -0.020913  \n",
      "Index(['Open', 'High', 'Low', 'Close', 'Adj Close', 'Volume', 'Change1',\n",
      "       'Change7', 'Change15', 'Change30'],\n",
      "      dtype='object')\n"
     ]
    }
   ],
   "source": [
    "kospi_train = kospi_train.dropna()\n",
    "print(kospi_train.head())\n",
    "print(kospi_train.columns)"
   ]
  },
  {
   "cell_type": "code",
   "execution_count": 5,
   "id": "cff64154",
   "metadata": {},
   "outputs": [
    {
     "name": "stdout",
     "output_type": "stream",
     "text": [
      "Date\n",
      "1997-01-24     679.559998\n",
      "1997-01-27     664.700012\n",
      "1997-01-28     662.849976\n",
      "1997-01-29     663.559998\n",
      "1997-01-30     676.520020\n",
      "                 ...     \n",
      "2017-12-21    2429.830078\n",
      "2017-12-22    2440.540039\n",
      "2017-12-26    2427.340088\n",
      "2017-12-27    2436.669922\n",
      "2017-12-28    2467.489990\n",
      "Name: Close, Length: 4668, dtype: float64 Date\n",
      "1997-01-24    0.003915\n",
      "1997-01-27   -0.021867\n",
      "1997-01-28   -0.002783\n",
      "1997-01-29    0.001071\n",
      "1997-01-30    0.019531\n",
      "                ...   \n",
      "2017-12-21   -0.019649\n",
      "2017-12-22    0.004408\n",
      "2017-12-26   -0.005409\n",
      "2017-12-27    0.003844\n",
      "2017-12-28    0.012648\n",
      "Name: Change1, Length: 4668, dtype: float64\n"
     ]
    }
   ],
   "source": [
    "kospi_train_close = kospi_train['Close']\n",
    "kospi_train_c1 = kospi_train['Change1']\n",
    "kospi_train_c7 = kospi_train['Change7']\n",
    "kospi_train_c15 = kospi_train['Change15']\n",
    "kospi_train_c30 = kospi_train['Change30']\n",
    "print(kospi_train_close, kospi_train_c1)"
   ]
  },
  {
   "cell_type": "code",
   "execution_count": 6,
   "id": "1c18820f",
   "metadata": {},
   "outputs": [
    {
     "name": "stdout",
     "output_type": "stream",
     "text": [
      "                   Open         High          Low        Close    Adj Close  \\\n",
      "Date                                                                          \n",
      "2018-01-02  2474.860107  2481.020020  2465.939941  2479.649902  2479.649902   \n",
      "2018-01-03  2484.629883  2493.399902  2481.909912  2486.350098  2486.350098   \n",
      "2018-01-04  2502.500000  2502.500000  2466.449951  2466.459961  2466.459961   \n",
      "2018-01-05  2476.850098  2497.520020  2475.510010  2497.520020  2497.520020   \n",
      "2018-01-08  2510.699951  2515.370117  2494.179932  2513.280029  2513.280029   \n",
      "\n",
      "            Volume   Change1  Change7  Change15  Change30  \n",
      "Date                                                       \n",
      "2018-01-02  262200       NaN      NaN       NaN       NaN  \n",
      "2018-01-03  331100  0.002702      NaN       NaN       NaN  \n",
      "2018-01-04  333800 -0.008000      NaN       NaN       NaN  \n",
      "2018-01-05  308800  0.012593      NaN       NaN       NaN  \n",
      "2018-01-08  311400  0.006310      NaN       NaN       NaN  \n",
      "Index(['Open', 'High', 'Low', 'Close', 'Adj Close', 'Volume', 'Change1',\n",
      "       'Change7', 'Change15', 'Change30'],\n",
      "      dtype='object')\n"
     ]
    }
   ],
   "source": [
    "kospi_test = fdr.DataReader('KS11', '2018-01-01')\n",
    "kospi_test['Change1'] = kospi_test['Close']/kospi_test['Close'].shift(1) - 1\n",
    "kospi_test['Change7'] = kospi_test['Close']/kospi_test['Close'].shift(7) - 1\n",
    "kospi_test['Change15'] = kospi_test['Close']/kospi_test['Close'].shift(15) - 1\n",
    "kospi_test['Change30'] = kospi_test['Close']/kospi_test['Close'].shift(30) - 1\n",
    "print(kospi_test.head())\n",
    "print(kospi_test.columns)"
   ]
  },
  {
   "cell_type": "code",
   "execution_count": 7,
   "id": "c764202d",
   "metadata": {},
   "outputs": [
    {
     "name": "stdout",
     "output_type": "stream",
     "text": [
      "                   Open         High          Low        Close    Adj Close  \\\n",
      "Date                                                                          \n",
      "2018-02-13  2402.889893  2421.800049  2388.540039  2395.189941  2395.189941   \n",
      "2018-02-14  2412.469971  2426.629883  2408.020020  2421.830078  2421.830078   \n",
      "2018-02-19  2452.520020  2455.120117  2428.149902  2442.820068  2442.820068   \n",
      "2018-02-20  2433.350098  2438.479980  2411.229980  2415.120117  2415.120117   \n",
      "2018-02-21  2417.729980  2432.449951  2404.020020  2429.649902  2429.649902   \n",
      "\n",
      "            Volume   Change1   Change7  Change15  Change30  \n",
      "Date                                                        \n",
      "2018-02-13  423400  0.004113 -0.051556 -0.055748 -0.034061  \n",
      "2018-02-14  305700  0.011122 -0.028061 -0.045772 -0.025950  \n",
      "2018-02-19  322100  0.008667 -0.004276 -0.046604 -0.009585  \n",
      "2018-02-20  421500 -0.011339  0.007744 -0.062002 -0.032993  \n",
      "2018-02-21  432300  0.006016  0.009150 -0.064868 -0.033275  \n",
      "Index(['Open', 'High', 'Low', 'Close', 'Adj Close', 'Volume', 'Change1',\n",
      "       'Change7', 'Change15', 'Change30'],\n",
      "      dtype='object')\n"
     ]
    }
   ],
   "source": [
    "kospi_test = kospi_test.dropna()\n",
    "print(kospi_test.head())\n",
    "print(kospi_test.columns)"
   ]
  },
  {
   "cell_type": "code",
   "execution_count": 8,
   "id": "f48c0019",
   "metadata": {},
   "outputs": [
    {
     "name": "stdout",
     "output_type": "stream",
     "text": [
      "Date\n",
      "2018-02-13    2395.189941\n",
      "2018-02-14    2421.830078\n",
      "2018-02-19    2442.820068\n",
      "2018-02-20    2415.120117\n",
      "2018-02-21    2429.649902\n",
      "                 ...     \n",
      "2023-01-30    2450.469971\n",
      "2023-01-31    2425.080078\n",
      "2023-02-01    2449.800049\n",
      "2023-02-02    2468.879883\n",
      "2023-02-03    2479.389893\n",
      "Name: Close, Length: 1223, dtype: float64 Date\n",
      "2018-02-13    0.004113\n",
      "2018-02-14    0.011122\n",
      "2018-02-19    0.008667\n",
      "2018-02-20   -0.011339\n",
      "2018-02-21    0.006016\n",
      "                ...   \n",
      "2023-01-30   -0.013506\n",
      "2023-01-31   -0.010361\n",
      "2023-02-01    0.010193\n",
      "2023-02-02    0.007788\n",
      "2023-02-03    0.004257\n",
      "Name: Change1, Length: 1223, dtype: float64\n"
     ]
    }
   ],
   "source": [
    "kospi_test_close = kospi_test['Close']\n",
    "kospi_test_c1 = kospi_test['Change1']\n",
    "kospi_test_c7 = kospi_test['Change7']\n",
    "kospi_test_c15 = kospi_test['Change15']\n",
    "kospi_test_c30 = kospi_test['Change30']\n",
    "print(kospi_test_close, kospi_test_c1)"
   ]
  },
  {
   "cell_type": "code",
   "execution_count": 9,
   "id": "a8396c4d",
   "metadata": {},
   "outputs": [
    {
     "name": "stdout",
     "output_type": "stream",
     "text": [
      "[0.41125768 1.11223484 0.86669953 ... 1.01934659 0.7788323  0.42569953]\n"
     ]
    }
   ],
   "source": [
    "kospi_train_close = kospi_train_close.values\n",
    "kospi_train_c1 = 100 * kospi_train_c1.values\n",
    "kospi_train_c7 = 100 * kospi_train_c7.values\n",
    "kospi_train_c15 = 100 * kospi_train_c15.values\n",
    "kospi_train_c30 = 100 * kospi_train_c30.values\n",
    "\n",
    "kospi_test_close = kospi_test_close.values\n",
    "kospi_test_c1 = 100 * kospi_test_c1.values\n",
    "kospi_test_c7 = 100 * kospi_test_c7.values\n",
    "kospi_test_c15 = 100 * kospi_test_c15.values\n",
    "kospi_test_c30 = 100 * kospi_test_c30.values\n",
    "print(kospi_test_c1)"
   ]
  },
  {
   "cell_type": "code",
   "execution_count": 10,
   "id": "c1334a32",
   "metadata": {},
   "outputs": [],
   "source": [
    "lookback_window = 60\n",
    "x_train_1, y_train_1 = [], []\n",
    "x_train_7, y_train_7 = [], []\n",
    "x_train_15, y_train_15 = [], []\n",
    "x_train_30, y_train_30 = [], []"
   ]
  },
  {
   "cell_type": "code",
   "execution_count": 11,
   "id": "2ad8662c",
   "metadata": {},
   "outputs": [],
   "source": [
    "for i in range(lookback_window, len(kospi_train_close)-1):\n",
    "    x_train_1.append(kospi_train_close[i - lookback_window:i])\n",
    "    y_train_1.append(kospi_train_c1[i])\n",
    "\n",
    "for i in range(lookback_window, len(kospi_train_close)-6):\n",
    "    x_train_7.append(kospi_train_close[i - lookback_window:i])\n",
    "    y_train_7.append(kospi_train_c7[i+6])\n",
    "\n",
    "for i in range(lookback_window, len(kospi_train_close)-14):\n",
    "    x_train_15.append(kospi_train_close[i - lookback_window:i])\n",
    "    y_train_15.append(kospi_train_c15[i+14])\n",
    "\n",
    "for i in range(lookback_window, len(kospi_train_close)-29):\n",
    "    x_train_30.append(kospi_train_close[i - lookback_window:i])\n",
    "    y_train_30.append(kospi_train_c30[i+29])"
   ]
  },
  {
   "cell_type": "code",
   "execution_count": 12,
   "id": "02aedcdf",
   "metadata": {},
   "outputs": [],
   "source": [
    "for index in range(len(y_train_1)):\n",
    "    if y_train_1[index]>= -0.1 and y_train_1[index] < 0.1:\n",
    "        y_train_1[index] = 'neutral'\n",
    "    elif y_train_1[index] >= 0.1:\n",
    "        y_train_1[index] = 'increase'\n",
    "    else:\n",
    "        y_train_1[index] = 'decrease'\n",
    "        \n",
    "for index in range(len(y_train_7)):\n",
    "    if y_train_7[index]>= -0.1 and y_train_7[index] < 0.1:\n",
    "        y_train_7[index] = 'neutral'\n",
    "    elif y_train_7[index] >= 0.1:\n",
    "        y_train_7[index] = 'increase'\n",
    "    else:\n",
    "        y_train_7[index] = 'decrease'\n",
    "\n",
    "for index in range(len(y_train_15)):\n",
    "    if y_train_15[index]>= -0.1 and y_train_15[index] < 0.1:\n",
    "        y_train_15[index] = 'neutral'\n",
    "    elif y_train_15[index] >= 0.1:\n",
    "        y_train_15[index] = 'increase'\n",
    "    else:\n",
    "        y_train_15[index] = 'decrease'\n",
    "\n",
    "for index in range(len(y_train_30)):\n",
    "    if y_train_30[index]>= -0.1 and y_train_30[index] < 0.1:\n",
    "        y_train_30[index] = 'neutral'\n",
    "    elif y_train_30[index] >= 0.1:\n",
    "        y_train_30[index] = 'increase'\n",
    "    else:\n",
    "        y_train_30[index] = 'decrease'"
   ]
  },
  {
   "cell_type": "code",
   "execution_count": 13,
   "id": "d5ef8793",
   "metadata": {},
   "outputs": [
    {
     "name": "stdout",
     "output_type": "stream",
     "text": [
      "(4607, 60, 1) (4602, 60, 1) (4594, 60, 1) (4579, 60, 1)\n",
      "(4607,) (4602,) (4594,) (4579,)\n"
     ]
    }
   ],
   "source": [
    "x_train_1 = np.array(x_train_1)\n",
    "y_train_1 = np.array(y_train_1)\n",
    "x_train_1 = x_train_1.reshape((4607, -1, 1))\n",
    "#y_train_1 = y_train_1.reshape((-1, 1))\n",
    "\n",
    "x_train_7 = np.array(x_train_7)\n",
    "y_train_7 = np.array(y_train_7)\n",
    "x_train_7 = x_train_7.reshape((4602, -1, 1))\n",
    "#y_train_7 = y_train_7.reshape((-1, 1))\n",
    "\n",
    "x_train_15 = np.array(x_train_15)\n",
    "y_train_15 = np.array(y_train_15)\n",
    "x_train_15 = x_train_15.reshape((4594, -1, 1))\n",
    "#y_train_15 = y_train_15.reshape((-1, 1))\n",
    "\n",
    "x_train_30 = np.array(x_train_30)\n",
    "y_train_30 = np.array(y_train_30)\n",
    "x_train_30 = x_train_30.reshape((4579, -1, 1))\n",
    "#y_train_30 = y_train_30.reshape((-1, 1))\n",
    "\n",
    "print(x_train_1.shape, x_train_7.shape, x_train_15.shape, x_train_30.shape)\n",
    "print(y_train_1.shape, y_train_7.shape, y_train_15.shape, y_train_30.shape)"
   ]
  },
  {
   "cell_type": "code",
   "execution_count": 14,
   "id": "612667a3",
   "metadata": {},
   "outputs": [],
   "source": [
    "x_test_1, y_test_1 = [], []\n",
    "x_test_7, y_test_7 = [], []\n",
    "x_test_15, y_test_15 = [], []\n",
    "x_test_30, y_test_30 = [], []"
   ]
  },
  {
   "cell_type": "code",
   "execution_count": 15,
   "id": "c77c5204",
   "metadata": {},
   "outputs": [],
   "source": [
    "for i in range(lookback_window, len(kospi_test_close)-1):\n",
    "    x_test_1.append(kospi_test_close[i - lookback_window:i])\n",
    "    y_test_1.append(kospi_test_c1[i])\n",
    "\n",
    "for i in range(lookback_window, len(kospi_test_close)-6):\n",
    "    x_test_7.append(kospi_test_close[i - lookback_window:i])\n",
    "    y_test_7.append(kospi_test_c7[i+6])\n",
    "\n",
    "for i in range(lookback_window, len(kospi_test_close)-14):\n",
    "    x_test_15.append(kospi_test_close[i - lookback_window:i])\n",
    "    y_test_15.append(kospi_test_c15[i+14])\n",
    "\n",
    "for i in range(lookback_window, len(kospi_test_close)-29):\n",
    "    x_test_30.append(kospi_test_close[i - lookback_window:i])\n",
    "    y_test_30.append(kospi_test_c30[i+29])"
   ]
  },
  {
   "cell_type": "code",
   "execution_count": 16,
   "id": "cb64b3b1",
   "metadata": {},
   "outputs": [],
   "source": [
    "for index in range(len(y_test_1)):\n",
    "    if y_test_1[index]>= -0.1 and y_test_1[index] < 0.1:\n",
    "        y_test_1[index] = 'neutral'\n",
    "    elif y_test_1[index] >= 0.1:\n",
    "        y_test_1[index] = 'increase'\n",
    "    else:\n",
    "        y_test_1[index] = 'decrease'\n",
    "        \n",
    "for index in range(len(y_test_7)):\n",
    "    if y_test_7[index]>= -0.1 and y_test_7[index] < 0.1:\n",
    "        y_test_7[index] = 'neutral'\n",
    "    elif y_test_7[index] >= 0.1:\n",
    "        y_test_7[index] = 'increase'\n",
    "    else:\n",
    "        y_test_7[index] = 'decrease'\n",
    "\n",
    "for index in range(len(y_test_15)):\n",
    "    if y_test_15[index]>= -0.1 and y_test_15[index] < 0.1:\n",
    "        y_test_15[index] = 'neutral'\n",
    "    elif y_test_15[index] >= 0.1:\n",
    "        y_test_15[index] = 'increase'\n",
    "    else:\n",
    "        y_test_15[index] = 'decrease'\n",
    "\n",
    "for index in range(len(y_test_30)):\n",
    "    if y_test_30[index]>= -0.1 and y_test_30[index] < 0.1:\n",
    "        y_test_30[index] = 'neutral'\n",
    "    elif y_test_30[index] >= 0.1:\n",
    "        y_test_30[index] = 'increase'\n",
    "    else:\n",
    "        y_test_30[index] = 'decrease'"
   ]
  },
  {
   "cell_type": "code",
   "execution_count": 24,
   "id": "4d9be8a6",
   "metadata": {},
   "outputs": [],
   "source": [
    "x_test_1 = np.array(x_test_1)\n",
    "y_test_1 = np.array(y_test_1)\n",
    "x_test_1 = x_test_1.reshape((1162, -1, 1))\n",
    "#y_test_1 = y_test_1.reshape((-1, 1))\n",
    "\n",
    "x_test_7 = np.array(x_test_7)\n",
    "y_test_7 = np.array(y_test_7)\n",
    "x_test_7 = x_test_7.reshape((1157, -1, 1))\n",
    "#y_test_7 = y_test_7.reshape((-1, 1))\n",
    "\n",
    "x_test_15 = np.array(x_test_15)\n",
    "y_test_15 = np.array(y_test_15)\n",
    "x_test_15 = x_test_15.reshape((1149, -1, 1))\n",
    "#y_test_15 = y_test_15.reshape((-1, 1))\n",
    "\n",
    "x_test_30 = np.array(x_test_30)\n",
    "y_test_30 = np.array(y_test_30)\n",
    "x_test_30 = x_test_30.reshape((1134, -1, 1))\n",
    "#y_test_30 = y_test_30.reshape((-1, 1))"
   ]
  },
  {
   "cell_type": "code",
   "execution_count": 25,
   "id": "3c3afe80",
   "metadata": {},
   "outputs": [
    {
     "name": "stdout",
     "output_type": "stream",
     "text": [
      "(1162, 60, 1) (1157, 60, 1) (1149, 60, 1) (1134, 60, 1)\n",
      "(1162,) (1157,) (1149,) (1134,)\n"
     ]
    }
   ],
   "source": [
    "print(x_test_1.shape, x_test_7.shape, x_test_15.shape, x_test_30.shape)\n",
    "print(y_test_1.shape, y_test_7.shape, y_test_15.shape, y_test_30.shape)"
   ]
  },
  {
   "cell_type": "code",
   "execution_count": 26,
   "id": "4fe1e739",
   "metadata": {},
   "outputs": [
    {
     "name": "stdout",
     "output_type": "stream",
     "text": [
      "['decrease' 'neutral' 'decrease' ... 'decrease' 'increase' 'increase']\n"
     ]
    }
   ],
   "source": [
    "print(y_test_1)"
   ]
  },
  {
   "cell_type": "code",
   "execution_count": 27,
   "id": "4cd5460c",
   "metadata": {},
   "outputs": [],
   "source": [
    "from sklearn.preprocessing import LabelEncoder\n",
    "from tensorflow.keras.utils import to_categorical\n",
    "encoder = LabelEncoder()\n",
    "encoder.fit(y_train_1)\n",
    "\n",
    "y_train_1_e = to_categorical(encoder.transform(y_train_1))\n",
    "y_train_7_e = to_categorical(encoder.transform(y_train_7))\n",
    "y_train_15_e = to_categorical(encoder.transform(y_train_15))\n",
    "y_train_30_e = to_categorical(encoder.transform(y_train_30))\n",
    "\n",
    "y_test_1_e = to_categorical(encoder.transform(y_test_1))\n",
    "y_test_7_e = to_categorical(encoder.transform(y_test_7))\n",
    "y_test_15_e = to_categorical(encoder.transform(y_test_15))\n",
    "y_test_30_e = to_categorical(encoder.transform(y_test_30))"
   ]
  },
  {
   "cell_type": "code",
   "execution_count": 28,
   "id": "ecfabc0c",
   "metadata": {},
   "outputs": [
    {
     "name": "stdout",
     "output_type": "stream",
     "text": [
      "(1162, 3)\n"
     ]
    }
   ],
   "source": [
    "print(y_test_1_e.shape)"
   ]
  },
  {
   "cell_type": "code",
   "execution_count": 29,
   "id": "d8cb8837",
   "metadata": {},
   "outputs": [
    {
     "name": "stderr",
     "output_type": "stream",
     "text": [
      "2023-02-03 06:56:11.847196: I tensorflow/core/platform/cpu_feature_guard.cc:193] This TensorFlow binary is optimized with oneAPI Deep Neural Network Library (oneDNN) to use the following CPU instructions in performance-critical operations:  AVX2 AVX512F AVX512_VNNI FMA\n",
      "To enable them in other operations, rebuild TensorFlow with the appropriate compiler flags.\n",
      "2023-02-03 06:56:12.568738: I tensorflow/core/common_runtime/gpu/gpu_device.cc:1613] Created device /job:localhost/replica:0/task:0/device:GPU:0 with 13123 MB memory:  -> device: 0, name: CUDA GPU, pci bus id: 0000:d5:00.0, compute capability: 8.6\n"
     ]
    },
    {
     "name": "stdout",
     "output_type": "stream",
     "text": [
      "Model: \"sequential\"\n",
      "_________________________________________________________________\n",
      " Layer (type)                Output Shape              Param #   \n",
      "=================================================================\n",
      " tcn (TCN)                   (None, 64)                148480    \n",
      "                                                                 \n",
      " dense (Dense)               (None, 3)                 195       \n",
      "                                                                 \n",
      "=================================================================\n",
      "Total params: 148,675\n",
      "Trainable params: 148,675\n",
      "Non-trainable params: 0\n",
      "_________________________________________________________________\n",
      "Model: \"sequential_1\"\n",
      "_________________________________________________________________\n",
      " Layer (type)                Output Shape              Param #   \n",
      "=================================================================\n",
      " tcn_1 (TCN)                 (None, 64)                148480    \n",
      "                                                                 \n",
      " dense_1 (Dense)             (None, 3)                 195       \n",
      "                                                                 \n",
      "=================================================================\n",
      "Total params: 148,675\n",
      "Trainable params: 148,675\n",
      "Non-trainable params: 0\n",
      "_________________________________________________________________\n",
      "Model: \"sequential_2\"\n",
      "_________________________________________________________________\n",
      " Layer (type)                Output Shape              Param #   \n",
      "=================================================================\n",
      " tcn_2 (TCN)                 (None, 64)                148480    \n",
      "                                                                 \n",
      " dense_2 (Dense)             (None, 3)                 195       \n",
      "                                                                 \n",
      "=================================================================\n",
      "Total params: 148,675\n",
      "Trainable params: 148,675\n",
      "Non-trainable params: 0\n",
      "_________________________________________________________________\n",
      "Model: \"sequential_3\"\n",
      "_________________________________________________________________\n",
      " Layer (type)                Output Shape              Param #   \n",
      "=================================================================\n",
      " tcn_3 (TCN)                 (None, 64)                148480    \n",
      "                                                                 \n",
      " dense_3 (Dense)             (None, 3)                 195       \n",
      "                                                                 \n",
      "=================================================================\n",
      "Total params: 148,675\n",
      "Trainable params: 148,675\n",
      "Non-trainable params: 0\n",
      "_________________________________________________________________\n"
     ]
    }
   ],
   "source": [
    "model_1 = Sequential([\n",
    "    TCN(input_shape=(lookback_window, 1),\n",
    "        kernel_size=4,\n",
    "        dilations=[1, 2, 4, 8, 16]\n",
    "        ),\n",
    "    Dense(3, activation='softmax')\n",
    "])\n",
    "\n",
    "model_1.summary()\n",
    "model_1.compile(loss='categorical_crossentropy', optimizer='adam', metrics=['accuracy'])\n",
    "####\n",
    "model_7 = Sequential([\n",
    "    TCN(input_shape=(lookback_window, 1),\n",
    "        kernel_size=4,\n",
    "        dilations=[1, 2, 4, 8, 16]\n",
    "        ),\n",
    "    Dense(3, activation='softmax')\n",
    "])\n",
    "\n",
    "model_7.summary()\n",
    "model_7.compile(loss='categorical_crossentropy', optimizer='adam', metrics=['accuracy'])\n",
    "####\n",
    "model_15 = Sequential([\n",
    "    TCN(input_shape=(lookback_window, 1),\n",
    "        kernel_size=4,\n",
    "        dilations=[1, 2, 4, 8, 16]\n",
    "        ),\n",
    "    Dense(3, activation='softmax')\n",
    "])\n",
    "\n",
    "model_15.summary()\n",
    "model_15.compile(loss='categorical_crossentropy', optimizer='adam', metrics=['accuracy'])\n",
    "####\n",
    "model_30 = Sequential([\n",
    "    TCN(input_shape=(lookback_window, 1),\n",
    "        kernel_size=4,\n",
    "        dilations=[1, 2, 4, 8, 16]\n",
    "        ),\n",
    "    Dense(3, activation='softmax')\n",
    "])\n",
    "\n",
    "model_30.summary()\n",
    "model_30.compile(loss='categorical_crossentropy', optimizer='adam', metrics=['accuracy'])"
   ]
  },
  {
   "cell_type": "code",
   "execution_count": null,
   "id": "ac14f04a",
   "metadata": {
    "scrolled": true
   },
   "outputs": [
    {
     "name": "stdout",
     "output_type": "stream",
     "text": [
      "Train model_1...\n",
      "Epoch 1/100\n"
     ]
    },
    {
     "name": "stderr",
     "output_type": "stream",
     "text": [
      "2023-02-03 06:56:33.590384: I tensorflow/compiler/xla/stream_executor/cuda/cuda_dnn.cc:428] Loaded cuDNN version 8400\n",
      "2023-02-03 06:56:37.712086: I tensorflow/compiler/xla/stream_executor/cuda/cuda_blas.cc:630] TensorFloat-32 will be used for the matrix multiplication. This will only be logged once.\n",
      "2023-02-03 06:56:37.973841: I tensorflow/compiler/xla/service/service.cc:173] XLA service 0x7f3d0e960250 initialized for platform CUDA (this does not guarantee that XLA will be used). Devices:\n",
      "2023-02-03 06:56:37.973910: I tensorflow/compiler/xla/service/service.cc:181]   StreamExecutor device (0): CUDA GPU, Compute Capability 8.6\n",
      "2023-02-03 06:56:37.988607: I tensorflow/compiler/mlir/tensorflow/utils/dump_mlir_util.cc:268] disabling MLIR crash reproducer, set env var `MLIR_CRASH_REPRODUCER_DIRECTORY` to enable.\n",
      "2023-02-03 06:56:38.145556: I tensorflow/compiler/jit/xla_compilation_cache.cc:477] Compiled cluster using XLA!  This line is logged at most once for the lifetime of the process.\n"
     ]
    },
    {
     "name": "stdout",
     "output_type": "stream",
     "text": [
      "144/144 [==============================] - 24s 68ms/step - loss: 1689.7744 - accuracy: 0.4076\n",
      "Epoch 2/100\n",
      "144/144 [==============================] - 3s 23ms/step - loss: 278.9295 - accuracy: 0.4020\n",
      "Epoch 3/100\n",
      "144/144 [==============================] - 3s 23ms/step - loss: 195.9124 - accuracy: 0.4157\n",
      "Epoch 4/100\n",
      "144/144 [==============================] - 3s 19ms/step - loss: 130.0471 - accuracy: 0.4152\n",
      "Epoch 5/100\n",
      "144/144 [==============================] - 3s 23ms/step - loss: 90.2967 - accuracy: 0.4304\n",
      "Epoch 6/100\n",
      "144/144 [==============================] - 3s 23ms/step - loss: 124.7910 - accuracy: 0.4152\n",
      "Epoch 7/100\n",
      "144/144 [==============================] - 3s 23ms/step - loss: 96.5654 - accuracy: 0.4181\n",
      "Epoch 8/100\n",
      "144/144 [==============================] - 3s 22ms/step - loss: 93.7824 - accuracy: 0.4148\n",
      "Epoch 9/100\n",
      "144/144 [==============================] - 3s 23ms/step - loss: 95.4619 - accuracy: 0.4250\n",
      "Epoch 10/100\n",
      "144/144 [==============================] - 3s 22ms/step - loss: 80.2968 - accuracy: 0.4263\n",
      "Epoch 11/100\n",
      "144/144 [==============================] - 3s 22ms/step - loss: 58.2142 - accuracy: 0.4157\n",
      "Epoch 12/100\n",
      "144/144 [==============================] - 3s 23ms/step - loss: 58.3976 - accuracy: 0.4096\n",
      "Epoch 13/100\n",
      "144/144 [==============================] - 3s 23ms/step - loss: 41.0972 - accuracy: 0.4317\n",
      "Epoch 14/100\n",
      "144/144 [==============================] - 3s 23ms/step - loss: 43.3902 - accuracy: 0.4113\n",
      "Epoch 15/100\n",
      "144/144 [==============================] - 3s 22ms/step - loss: 36.9797 - accuracy: 0.4198\n",
      "Epoch 16/100\n",
      "144/144 [==============================] - 3s 22ms/step - loss: 28.0722 - accuracy: 0.4300\n",
      "Epoch 17/100\n",
      "144/144 [==============================] - 3s 22ms/step - loss: 32.3648 - accuracy: 0.4207\n",
      "Epoch 18/100\n",
      "144/144 [==============================] - 3s 23ms/step - loss: 33.3228 - accuracy: 0.4092\n",
      "Epoch 19/100\n",
      "144/144 [==============================] - 3s 22ms/step - loss: 28.7668 - accuracy: 0.4165\n",
      "Epoch 20/100\n",
      "144/144 [==============================] - 3s 23ms/step - loss: 43.2073 - accuracy: 0.4202\n",
      "Epoch 21/100\n",
      "144/144 [==============================] - 3s 23ms/step - loss: 28.8683 - accuracy: 0.4204\n",
      "Epoch 22/100\n",
      "144/144 [==============================] - 3s 22ms/step - loss: 36.2629 - accuracy: 0.4176\n",
      "Epoch 23/100\n",
      "144/144 [==============================] - 3s 22ms/step - loss: 27.8662 - accuracy: 0.4226\n",
      "Epoch 24/100\n",
      "144/144 [==============================] - 3s 21ms/step - loss: 32.2933 - accuracy: 0.4224\n",
      "Epoch 25/100\n",
      "144/144 [==============================] - 3s 23ms/step - loss: 30.9067 - accuracy: 0.4152\n",
      "Epoch 26/100\n",
      "144/144 [==============================] - 3s 23ms/step - loss: 18.2610 - accuracy: 0.4257\n",
      "Epoch 27/100\n",
      "144/144 [==============================] - 3s 23ms/step - loss: 19.8886 - accuracy: 0.4040\n",
      "Epoch 28/100\n",
      "144/144 [==============================] - 3s 23ms/step - loss: 27.1362 - accuracy: 0.4176\n",
      "Epoch 29/100\n",
      "144/144 [==============================] - 3s 23ms/step - loss: 10.9905 - accuracy: 0.4235\n",
      "Epoch 30/100\n",
      "144/144 [==============================] - 3s 23ms/step - loss: 9.7264 - accuracy: 0.4326\n",
      "Epoch 31/100\n",
      "144/144 [==============================] - 3s 23ms/step - loss: 12.1261 - accuracy: 0.4181\n",
      "Epoch 32/100\n",
      "144/144 [==============================] - 3s 22ms/step - loss: 12.1872 - accuracy: 0.4089\n",
      "Epoch 33/100\n",
      "144/144 [==============================] - 3s 23ms/step - loss: 13.1300 - accuracy: 0.4326\n",
      "Epoch 34/100\n",
      "144/144 [==============================] - 3s 23ms/step - loss: 11.8223 - accuracy: 0.4194\n",
      "Epoch 35/100\n",
      "144/144 [==============================] - 3s 23ms/step - loss: 9.0122 - accuracy: 0.4209\n",
      "Epoch 36/100\n",
      "144/144 [==============================] - 3s 22ms/step - loss: 10.4775 - accuracy: 0.4215\n",
      "Epoch 37/100\n",
      "144/144 [==============================] - 3s 23ms/step - loss: 11.2779 - accuracy: 0.4161\n",
      "Epoch 38/100\n",
      "144/144 [==============================] - 3s 22ms/step - loss: 8.7316 - accuracy: 0.4300\n",
      "Epoch 39/100\n",
      "144/144 [==============================] - 3s 23ms/step - loss: 11.2441 - accuracy: 0.4248\n",
      "Epoch 40/100\n",
      "144/144 [==============================] - 3s 23ms/step - loss: 15.6456 - accuracy: 0.4144\n",
      "Epoch 41/100\n",
      "144/144 [==============================] - 3s 23ms/step - loss: 10.5273 - accuracy: 0.4094\n",
      "Epoch 42/100\n",
      "144/144 [==============================] - 3s 22ms/step - loss: 12.8347 - accuracy: 0.4289\n",
      "Epoch 43/100\n",
      "144/144 [==============================] - 3s 19ms/step - loss: 9.2124 - accuracy: 0.4304\n",
      "Epoch 44/100\n",
      "144/144 [==============================] - 3s 23ms/step - loss: 5.7102 - accuracy: 0.4246\n",
      "Epoch 45/100\n",
      "144/144 [==============================] - 3s 22ms/step - loss: 6.4336 - accuracy: 0.4168\n",
      "Epoch 46/100\n",
      "144/144 [==============================] - 3s 22ms/step - loss: 5.9706 - accuracy: 0.4224\n",
      "Epoch 47/100\n",
      "144/144 [==============================] - 3s 22ms/step - loss: 3.4980 - accuracy: 0.4311\n",
      "Epoch 48/100\n",
      "144/144 [==============================] - 3s 23ms/step - loss: 9.7228 - accuracy: 0.4241\n",
      "Epoch 49/100\n",
      "144/144 [==============================] - 3s 24ms/step - loss: 4.6831 - accuracy: 0.4311\n",
      "Epoch 50/100\n",
      "144/144 [==============================] - 3s 21ms/step - loss: 7.1972 - accuracy: 0.4174\n",
      "Epoch 51/100\n",
      "144/144 [==============================] - 3s 20ms/step - loss: 4.0487 - accuracy: 0.4343\n",
      "Epoch 52/100\n",
      "144/144 [==============================] - 3s 23ms/step - loss: 5.5973 - accuracy: 0.4257\n",
      "Epoch 53/100\n",
      "144/144 [==============================] - 3s 23ms/step - loss: 3.7711 - accuracy: 0.4272\n",
      "Epoch 54/100\n",
      "144/144 [==============================] - 3s 22ms/step - loss: 4.0315 - accuracy: 0.4313\n",
      "Epoch 55/100\n",
      "144/144 [==============================] - 3s 22ms/step - loss: 3.3774 - accuracy: 0.4168\n",
      "Epoch 56/100\n",
      "144/144 [==============================] - 3s 23ms/step - loss: 3.9856 - accuracy: 0.4296\n",
      "Epoch 57/100\n",
      "144/144 [==============================] - 3s 23ms/step - loss: 10.2212 - accuracy: 0.4172\n",
      "Epoch 58/100\n",
      "144/144 [==============================] - 3s 23ms/step - loss: 7.0940 - accuracy: 0.4467\n",
      "Epoch 59/100\n",
      "144/144 [==============================] - 3s 23ms/step - loss: 7.9536 - accuracy: 0.4265\n",
      "Epoch 60/100\n",
      "144/144 [==============================] - 3s 23ms/step - loss: 4.1019 - accuracy: 0.4524\n",
      "Epoch 61/100\n",
      "144/144 [==============================] - 3s 23ms/step - loss: 2.3775 - accuracy: 0.4402\n",
      "Epoch 62/100\n",
      "144/144 [==============================] - 3s 23ms/step - loss: 3.1310 - accuracy: 0.4435\n",
      "Epoch 63/100\n",
      "144/144 [==============================] - 3s 23ms/step - loss: 3.1699 - accuracy: 0.4504\n",
      "Epoch 64/100\n",
      "144/144 [==============================] - 3s 23ms/step - loss: 1.7316 - accuracy: 0.4643\n",
      "Epoch 65/100\n",
      "144/144 [==============================] - 3s 23ms/step - loss: 2.3474 - accuracy: 0.4582\n",
      "Epoch 66/100\n",
      "144/144 [==============================] - 3s 23ms/step - loss: 3.4855 - accuracy: 0.4524\n",
      "Epoch 67/100\n",
      "144/144 [==============================] - 3s 23ms/step - loss: 1.8183 - accuracy: 0.4600\n",
      "Epoch 68/100\n",
      "144/144 [==============================] - 3s 23ms/step - loss: 1.5540 - accuracy: 0.4580\n",
      "Epoch 69/100\n",
      "144/144 [==============================] - 3s 23ms/step - loss: 1.5293 - accuracy: 0.4623\n",
      "Epoch 70/100\n",
      "144/144 [==============================] - 3s 23ms/step - loss: 1.4116 - accuracy: 0.4565\n",
      "Epoch 71/100\n",
      "144/144 [==============================] - 3s 21ms/step - loss: 1.3637 - accuracy: 0.4558\n",
      "Epoch 72/100\n",
      "144/144 [==============================] - 3s 22ms/step - loss: 1.3090 - accuracy: 0.4530\n",
      "Epoch 73/100\n",
      "144/144 [==============================] - 3s 22ms/step - loss: 1.6357 - accuracy: 0.4504\n",
      "Epoch 74/100\n",
      "144/144 [==============================] - 3s 22ms/step - loss: 1.2790 - accuracy: 0.4491\n",
      "Epoch 75/100\n",
      "144/144 [==============================] - 3s 22ms/step - loss: 1.3156 - accuracy: 0.4530\n",
      "Epoch 76/100\n",
      "144/144 [==============================] - 3s 23ms/step - loss: 1.1643 - accuracy: 0.4600\n",
      "Epoch 77/100\n",
      "144/144 [==============================] - 3s 22ms/step - loss: 1.0973 - accuracy: 0.4482\n",
      "Epoch 78/100\n",
      "144/144 [==============================] - 3s 23ms/step - loss: 1.1007 - accuracy: 0.4582\n",
      "Epoch 79/100\n",
      "144/144 [==============================] - 3s 23ms/step - loss: 1.0846 - accuracy: 0.4584\n",
      "Epoch 80/100\n"
     ]
    },
    {
     "name": "stdout",
     "output_type": "stream",
     "text": [
      "144/144 [==============================] - 3s 23ms/step - loss: 1.1065 - accuracy: 0.4482\n",
      "Epoch 81/100\n",
      "144/144 [==============================] - 3s 23ms/step - loss: 0.9917 - accuracy: 0.4545\n",
      "Epoch 82/100\n",
      "144/144 [==============================] - 3s 22ms/step - loss: 1.0860 - accuracy: 0.4359\n",
      "Epoch 83/100\n",
      "144/144 [==============================] - 3s 22ms/step - loss: 0.9366 - accuracy: 0.4773\n",
      "Epoch 84/100\n",
      "144/144 [==============================] - 3s 22ms/step - loss: 0.9346 - accuracy: 0.4799\n",
      "Epoch 85/100\n",
      "144/144 [==============================] - 3s 22ms/step - loss: 0.9358 - accuracy: 0.4843\n",
      "Epoch 86/100\n",
      "144/144 [==============================] - 3s 23ms/step - loss: 0.9348 - accuracy: 0.4838\n",
      "Epoch 87/100\n",
      "144/144 [==============================] - 3s 23ms/step - loss: 0.9364 - accuracy: 0.4780\n",
      "Epoch 88/100\n",
      "144/144 [==============================] - 3s 23ms/step - loss: 0.9352 - accuracy: 0.4775\n",
      "Epoch 89/100\n",
      "144/144 [==============================] - 3s 23ms/step - loss: 0.9355 - accuracy: 0.4814\n",
      "Epoch 90/100\n",
      "144/144 [==============================] - 3s 23ms/step - loss: 0.9358 - accuracy: 0.4817\n",
      "Epoch 91/100\n",
      "144/144 [==============================] - 3s 23ms/step - loss: 0.9353 - accuracy: 0.4832\n",
      "Epoch 92/100\n",
      "144/144 [==============================] - 3s 23ms/step - loss: 0.9364 - accuracy: 0.4780\n",
      "Epoch 93/100\n",
      "144/144 [==============================] - 3s 23ms/step - loss: 0.9389 - accuracy: 0.4754\n",
      "Epoch 94/100\n",
      "144/144 [==============================] - 3s 22ms/step - loss: 0.9371 - accuracy: 0.4749\n",
      "Epoch 95/100\n",
      "144/144 [==============================] - 3s 23ms/step - loss: 0.9369 - accuracy: 0.4832\n",
      "Epoch 96/100\n",
      "144/144 [==============================] - 3s 22ms/step - loss: 0.9401 - accuracy: 0.4767\n",
      "Epoch 97/100\n",
      "144/144 [==============================] - 3s 22ms/step - loss: 0.9368 - accuracy: 0.4819\n",
      "Epoch 98/100\n",
      "144/144 [==============================] - 3s 23ms/step - loss: 0.9398 - accuracy: 0.4821\n",
      "Epoch 99/100\n",
      "144/144 [==============================] - 3s 23ms/step - loss: 0.9379 - accuracy: 0.4819\n",
      "Epoch 100/100\n",
      "144/144 [==============================] - 3s 23ms/step - loss: 0.9373 - accuracy: 0.4786\n"
     ]
    }
   ],
   "source": [
    "print('Train model_1...')\n",
    "model_1.fit(x_train_1, y_train_1_e, epochs=100, verbose=1)\n",
    "p_test_1 = model_1.predict(x_test_1)\n",
    "\n",
    "print('Train model_7...')\n",
    "model_7.fit(x_train_7, y_train_7_e, epochs=100, verbose=1)\n",
    "p_test_7 = model_7.predict(x_test_7)\n",
    "\n",
    "print('Train model_15...')\n",
    "model_15.fit(x_train_15, y_train_15_e, epochs=100, verbose=1)\n",
    "p_test_15 = model_15.predict(x_test_15)\n",
    "\n",
    "print('Train model_30...')\n",
    "model_30.fit(x_train_30, y_train_30_e, epochs=100, verbose=1)\n",
    "p_test_30 = model_30.predict(x_test_30)"
   ]
  },
  {
   "cell_type": "code",
   "execution_count": 25,
   "id": "11fc61f0",
   "metadata": {},
   "outputs": [],
   "source": [
    "model_1.save('/home/work/nlp/TCN_models/classification_model/v6/kospi_1day_classification_v6.h5')\n",
    "model_7.save('/home/work/nlp/TCN_models/classification_model/v6/kospi_7days_classification_v6.h5')\n",
    "model_15.save('/home/work/nlp/TCN_models/classification_model/v6/kospi_15days_classification_v6.h5')\n",
    "model_30.save('/home/work/nlp/TCN_models/classification_model/v6/kospi_30days_classification_v6.h5')"
   ]
  },
  {
   "cell_type": "code",
   "execution_count": 27,
   "id": "f0178c47",
   "metadata": {},
   "outputs": [
    {
     "name": "stdout",
     "output_type": "stream",
     "text": [
      "37/37 [==============================] - 1s 23ms/step - loss: 50.7914 - accuracy: 0.1001\n",
      "37/37 [==============================] - 1s 25ms/step - loss: 18.6252 - accuracy: 0.4636\n",
      "36/36 [==============================] - 1s 25ms/step - loss: 28.5765 - accuracy: 0.4878\n",
      "36/36 [==============================] - 1s 25ms/step - loss: 34.5452 - accuracy: 0.4872\n"
     ]
    },
    {
     "data": {
      "text/plain": [
       "0.4871794879436493"
      ]
     },
     "execution_count": 27,
     "metadata": {},
     "output_type": "execute_result"
    }
   ],
   "source": [
    "model_1.evaluate(x_test_1, y_test_1_e)[1]\n",
    "model_7.evaluate(x_test_7, y_test_7_e)[1]\n",
    "model_15.evaluate(x_test_15, y_test_15_e)[1]\n",
    "model_30.evaluate(x_test_30, y_test_30_e)[1]"
   ]
  }
 ],
 "metadata": {
  "kernelspec": {
   "display_name": "PyTorch 1.13 (NGC 22.05/Python 3.8 Conda) on Backend.AI",
   "language": "python",
   "name": "python3"
  },
  "language_info": {
   "codemirror_mode": {
    "name": "ipython",
    "version": 3
   },
   "file_extension": ".py",
   "mimetype": "text/x-python",
   "name": "python",
   "nbconvert_exporter": "python",
   "pygments_lexer": "ipython3",
   "version": "3.8.13"
  }
 },
 "nbformat": 4,
 "nbformat_minor": 5
}
