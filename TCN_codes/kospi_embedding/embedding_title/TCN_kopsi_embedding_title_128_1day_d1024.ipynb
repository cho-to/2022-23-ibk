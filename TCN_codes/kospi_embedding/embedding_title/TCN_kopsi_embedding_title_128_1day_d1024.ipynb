{
 "cells": [
  {
   "cell_type": "code",
   "execution_count": 3,
   "id": "6c654451",
   "metadata": {},
   "outputs": [
    {
     "name": "stdout",
     "output_type": "stream",
     "text": [
      "Defaulting to user installation because normal site-packages is not writeable\n",
      "Requirement already satisfied: keras-tcn in /home/work/.local/lib/python3.8/site-packages (3.5.0)\n",
      "Requirement already satisfied: numpy in /usr/local/lib/python3.8/dist-packages (from keras-tcn) (1.21.1)\n",
      "Requirement already satisfied: tensorflow in /home/work/.local/lib/python3.8/site-packages (from keras-tcn) (2.11.0)\n",
      "Requirement already satisfied: tensorflow-addons in /home/work/.local/lib/python3.8/site-packages (from keras-tcn) (0.19.0)\n",
      "Requirement already satisfied: h5py>=2.9.0 in /usr/local/lib/python3.8/dist-packages (from tensorflow->keras-tcn) (3.6.0)\n",
      "Requirement already satisfied: google-pasta>=0.1.1 in /usr/local/lib/python3.8/dist-packages (from tensorflow->keras-tcn) (0.2.0)\n",
      "Requirement already satisfied: wrapt>=1.11.0 in /usr/local/lib/python3.8/dist-packages (from tensorflow->keras-tcn) (1.12.1)\n",
      "Requirement already satisfied: flatbuffers>=2.0 in /home/work/.local/lib/python3.8/site-packages (from tensorflow->keras-tcn) (22.12.6)\n",
      "Requirement already satisfied: astunparse>=1.6.0 in /home/work/.local/lib/python3.8/site-packages (from tensorflow->keras-tcn) (1.6.3)\n",
      "Requirement already satisfied: absl-py>=1.0.0 in /home/work/.local/lib/python3.8/site-packages (from tensorflow->keras-tcn) (1.3.0)\n",
      "Requirement already satisfied: libclang>=13.0.0 in /home/work/.local/lib/python3.8/site-packages (from tensorflow->keras-tcn) (14.0.6)\n",
      "Requirement already satisfied: six>=1.12.0 in /usr/local/lib/python3.8/dist-packages (from tensorflow->keras-tcn) (1.15.0)\n",
      "Requirement already satisfied: packaging in /usr/local/lib/python3.8/dist-packages (from tensorflow->keras-tcn) (21.3)\n",
      "Requirement already satisfied: grpcio<2.0,>=1.24.3 in /usr/local/lib/python3.8/dist-packages (from tensorflow->keras-tcn) (1.39.0)\n",
      "Requirement already satisfied: tensorflow-io-gcs-filesystem>=0.23.1 in /home/work/.local/lib/python3.8/site-packages (from tensorflow->keras-tcn) (0.29.0)\n",
      "Requirement already satisfied: tensorboard<2.12,>=2.11 in /home/work/.local/lib/python3.8/site-packages (from tensorflow->keras-tcn) (2.11.0)\n",
      "Requirement already satisfied: protobuf<3.20,>=3.9.2 in /home/work/.local/lib/python3.8/site-packages (from tensorflow->keras-tcn) (3.19.6)\n",
      "Requirement already satisfied: termcolor>=1.1.0 in /usr/local/lib/python3.8/dist-packages (from tensorflow->keras-tcn) (1.1.0)\n",
      "Requirement already satisfied: typing-extensions>=3.6.6 in /usr/local/lib/python3.8/dist-packages (from tensorflow->keras-tcn) (4.3.0)\n",
      "Requirement already satisfied: keras<2.12,>=2.11.0 in /home/work/.local/lib/python3.8/site-packages (from tensorflow->keras-tcn) (2.11.0)\n",
      "Requirement already satisfied: opt-einsum>=2.3.2 in /usr/local/lib/python3.8/dist-packages (from tensorflow->keras-tcn) (3.3.0)\n",
      "Requirement already satisfied: tensorflow-estimator<2.12,>=2.11.0 in /home/work/.local/lib/python3.8/site-packages (from tensorflow->keras-tcn) (2.11.0)\n",
      "Requirement already satisfied: gast<=0.4.0,>=0.2.1 in /home/work/.local/lib/python3.8/site-packages (from tensorflow->keras-tcn) (0.4.0)\n",
      "Requirement already satisfied: setuptools in /usr/local/lib/python3.8/dist-packages (from tensorflow->keras-tcn) (63.2.0)\n",
      "Requirement already satisfied: typeguard>=2.7 in /usr/local/lib/python3.8/dist-packages (from tensorflow-addons->keras-tcn) (2.13.3)\n",
      "Requirement already satisfied: wheel<1.0,>=0.23.0 in /usr/local/lib/python3.8/dist-packages (from astunparse>=1.6.0->tensorflow->keras-tcn) (0.36.2)\n",
      "Requirement already satisfied: werkzeug>=1.0.1 in /usr/local/lib/python3.8/dist-packages (from tensorboard<2.12,>=2.11->tensorflow->keras-tcn) (2.0.3)\n",
      "Requirement already satisfied: tensorboard-plugin-wit>=1.6.0 in /usr/local/lib/python3.8/dist-packages (from tensorboard<2.12,>=2.11->tensorflow->keras-tcn) (1.8.1)\n",
      "Requirement already satisfied: tensorboard-data-server<0.7.0,>=0.6.0 in /usr/local/lib/python3.8/dist-packages (from tensorboard<2.12,>=2.11->tensorflow->keras-tcn) (0.6.1)\n",
      "Requirement already satisfied: markdown>=2.6.8 in /usr/local/lib/python3.8/dist-packages (from tensorboard<2.12,>=2.11->tensorflow->keras-tcn) (3.3.7)\n",
      "Requirement already satisfied: google-auth<3,>=1.6.3 in /usr/local/lib/python3.8/dist-packages (from tensorboard<2.12,>=2.11->tensorflow->keras-tcn) (1.35.0)\n",
      "Requirement already satisfied: requests<3,>=2.21.0 in /usr/local/lib/python3.8/dist-packages (from tensorboard<2.12,>=2.11->tensorflow->keras-tcn) (2.27.1)\n",
      "Requirement already satisfied: google-auth-oauthlib<0.5,>=0.4.1 in /usr/local/lib/python3.8/dist-packages (from tensorboard<2.12,>=2.11->tensorflow->keras-tcn) (0.4.6)\n",
      "Requirement already satisfied: pyparsing!=3.0.5,>=2.0.2 in /usr/local/lib/python3.8/dist-packages (from packaging->tensorflow->keras-tcn) (3.0.8)\n",
      "Requirement already satisfied: cachetools<5.0,>=2.0.0 in /usr/local/lib/python3.8/dist-packages (from google-auth<3,>=1.6.3->tensorboard<2.12,>=2.11->tensorflow->keras-tcn) (4.2.4)\n",
      "Requirement already satisfied: rsa<5,>=3.1.4 in /usr/local/lib/python3.8/dist-packages (from google-auth<3,>=1.6.3->tensorboard<2.12,>=2.11->tensorflow->keras-tcn) (4.8)\n",
      "Requirement already satisfied: pyasn1-modules>=0.2.1 in /usr/local/lib/python3.8/dist-packages (from google-auth<3,>=1.6.3->tensorboard<2.12,>=2.11->tensorflow->keras-tcn) (0.2.8)\n",
      "Requirement already satisfied: requests-oauthlib>=0.7.0 in /usr/local/lib/python3.8/dist-packages (from google-auth-oauthlib<0.5,>=0.4.1->tensorboard<2.12,>=2.11->tensorflow->keras-tcn) (1.3.1)\n",
      "Requirement already satisfied: importlib-metadata>=4.4 in /usr/local/lib/python3.8/dist-packages (from markdown>=2.6.8->tensorboard<2.12,>=2.11->tensorflow->keras-tcn) (4.12.0)\n",
      "Requirement already satisfied: urllib3<1.27,>=1.21.1 in /usr/local/lib/python3.8/dist-packages (from requests<3,>=2.21.0->tensorboard<2.12,>=2.11->tensorflow->keras-tcn) (1.26.7)\n",
      "Requirement already satisfied: certifi>=2017.4.17 in /usr/local/lib/python3.8/dist-packages (from requests<3,>=2.21.0->tensorboard<2.12,>=2.11->tensorflow->keras-tcn) (2021.10.8)\n",
      "Requirement already satisfied: charset-normalizer~=2.0.0 in /usr/local/lib/python3.8/dist-packages (from requests<3,>=2.21.0->tensorboard<2.12,>=2.11->tensorflow->keras-tcn) (2.0.12)\n",
      "Requirement already satisfied: idna<4,>=2.5 in /usr/local/lib/python3.8/dist-packages (from requests<3,>=2.21.0->tensorboard<2.12,>=2.11->tensorflow->keras-tcn) (3.3)\n",
      "Requirement already satisfied: zipp>=0.5 in /usr/local/lib/python3.8/dist-packages (from importlib-metadata>=4.4->markdown>=2.6.8->tensorboard<2.12,>=2.11->tensorflow->keras-tcn) (3.1.0)\n",
      "Requirement already satisfied: pyasn1<0.5.0,>=0.4.6 in /usr/local/lib/python3.8/dist-packages (from pyasn1-modules>=0.2.1->google-auth<3,>=1.6.3->tensorboard<2.12,>=2.11->tensorflow->keras-tcn) (0.4.8)\n",
      "Requirement already satisfied: oauthlib>=3.0.0 in /usr/local/lib/python3.8/dist-packages (from requests-oauthlib>=0.7.0->google-auth-oauthlib<0.5,>=0.4.1->tensorboard<2.12,>=2.11->tensorflow->keras-tcn) (3.2.0)\n",
      "\u001b[33mWARNING: You are using pip version 21.3.1; however, version 23.0 is available.\n",
      "You should consider upgrading via the '/usr/bin/python3 -m pip install --upgrade pip' command.\u001b[0m\n",
      "Defaulting to user installation because normal site-packages is not writeable\n",
      "Requirement already satisfied: finance-datareader in /home/work/.local/lib/python3.8/site-packages (0.9.50)\n",
      "Requirement already satisfied: lxml in /usr/local/lib/python3.8/dist-packages (from finance-datareader) (4.5.0)\n",
      "Requirement already satisfied: requests>=2.3.0 in /usr/local/lib/python3.8/dist-packages (from finance-datareader) (2.27.1)\n",
      "Requirement already satisfied: requests-file in /home/work/.local/lib/python3.8/site-packages (from finance-datareader) (1.5.1)\n",
      "Requirement already satisfied: tqdm in /usr/local/lib/python3.8/dist-packages (from finance-datareader) (4.64.0)\n",
      "Requirement already satisfied: pandas>=0.19.2 in /home/work/.local/lib/python3.8/site-packages (from finance-datareader) (1.5.2)\n",
      "Requirement already satisfied: python-dateutil>=2.8.1 in /usr/local/lib/python3.8/dist-packages (from pandas>=0.19.2->finance-datareader) (2.8.2)\n",
      "Requirement already satisfied: pytz>=2020.1 in /usr/local/lib/python3.8/dist-packages (from pandas>=0.19.2->finance-datareader) (2022.1)\n",
      "Requirement already satisfied: numpy>=1.20.3 in /usr/local/lib/python3.8/dist-packages (from pandas>=0.19.2->finance-datareader) (1.21.1)\n",
      "Requirement already satisfied: charset-normalizer~=2.0.0 in /usr/local/lib/python3.8/dist-packages (from requests>=2.3.0->finance-datareader) (2.0.12)\n",
      "Requirement already satisfied: idna<4,>=2.5 in /usr/local/lib/python3.8/dist-packages (from requests>=2.3.0->finance-datareader) (3.3)\n",
      "Requirement already satisfied: urllib3<1.27,>=1.21.1 in /usr/local/lib/python3.8/dist-packages (from requests>=2.3.0->finance-datareader) (1.26.7)\n"
     ]
    },
    {
     "name": "stdout",
     "output_type": "stream",
     "text": [
      "Requirement already satisfied: certifi>=2017.4.17 in /usr/local/lib/python3.8/dist-packages (from requests>=2.3.0->finance-datareader) (2021.10.8)\n",
      "Requirement already satisfied: six in /usr/local/lib/python3.8/dist-packages (from requests-file->finance-datareader) (1.15.0)\n",
      "\u001b[33mWARNING: You are using pip version 21.3.1; however, version 23.0 is available.\n",
      "You should consider upgrading via the '/usr/bin/python3 -m pip install --upgrade pip' command.\u001b[0m\n"
     ]
    }
   ],
   "source": [
    "!pip install keras-tcn\n",
    "!pip install -U finance-datareader"
   ]
  },
  {
   "cell_type": "code",
   "execution_count": 4,
   "id": "13ffe65e",
   "metadata": {},
   "outputs": [
    {
     "name": "stderr",
     "output_type": "stream",
     "text": [
      "/home/work/.local/lib/python3.8/site-packages/pandas/core/computation/expressions.py:20: UserWarning: Pandas requires version '2.7.3' or newer of 'numexpr' (version '2.7.0' currently installed).\n",
      "  from pandas.core.computation.check import NUMEXPR_INSTALLED\n",
      "2023-02-07 04:50:29.408066: I tensorflow/core/platform/cpu_feature_guard.cc:193] This TensorFlow binary is optimized with oneAPI Deep Neural Network Library (oneDNN) to use the following CPU instructions in performance-critical operations:  AVX2 AVX512F AVX512_VNNI FMA\n",
      "To enable them in other operations, rebuild TensorFlow with the appropriate compiler flags.\n",
      "2023-02-07 04:50:29.647607: I tensorflow/core/util/port.cc:104] oneDNN custom operations are on. You may see slightly different numerical results due to floating-point round-off errors from different computation orders. To turn them off, set the environment variable `TF_ENABLE_ONEDNN_OPTS=0`.\n",
      "2023-02-07 04:50:33.464948: W tensorflow/compiler/xla/stream_executor/platform/default/dso_loader.cc:64] Could not load dynamic library 'libnvinfer.so.7'; dlerror: libnvinfer.so.7: cannot open shared object file: No such file or directory; LD_LIBRARY_PATH: /usr/local/cuda/compat/lib:/usr/local/cuda/extras/CUPTI/lib64:/usr/local/cuda/lib:/usr/local/cuda/lib64:/usr/local/nvidia/lib64:/usr/include/x86_64-linux-gnu\n",
      "2023-02-07 04:50:33.465207: W tensorflow/compiler/xla/stream_executor/platform/default/dso_loader.cc:64] Could not load dynamic library 'libnvinfer_plugin.so.7'; dlerror: libnvinfer_plugin.so.7: cannot open shared object file: No such file or directory; LD_LIBRARY_PATH: /usr/local/cuda/compat/lib:/usr/local/cuda/extras/CUPTI/lib64:/usr/local/cuda/lib:/usr/local/cuda/lib64:/usr/local/nvidia/lib64:/usr/include/x86_64-linux-gnu\n",
      "2023-02-07 04:50:33.465236: W tensorflow/compiler/tf2tensorrt/utils/py_utils.cc:38] TF-TRT Warning: Cannot dlopen some TensorRT libraries. If you would like to use Nvidia GPU with TensorRT, please make sure the missing libraries mentioned above are installed properly.\n"
     ]
    }
   ],
   "source": [
    "import numpy as np\n",
    "import pandas as pd\n",
    "import FinanceDataReader as fdr\n",
    "from tensorflow.keras import Sequential\n",
    "from tensorflow.keras.layers import Dense\n",
    "from tcn import TCN"
   ]
  },
  {
   "cell_type": "code",
   "execution_count": 5,
   "id": "452f7f0f",
   "metadata": {},
   "outputs": [
    {
     "name": "stdout",
     "output_type": "stream",
     "text": [
      "                   Open         High          Low        Close    Adj Close  \\\n",
      "Date                                                                          \n",
      "2015-01-05  1921.959961  1921.959961  1903.369995  1915.750000  1915.750000   \n",
      "2015-01-06  1895.479980  1900.020020  1877.380005  1882.449951  1882.449951   \n",
      "2015-01-07  1878.900024  1887.599976  1876.270020  1883.829956  1883.829956   \n",
      "2015-01-08  1895.849976  1907.229980  1891.770020  1904.650024  1904.650024   \n",
      "2015-01-09  1919.800049  1929.099976  1915.849976  1924.699951  1924.699951   \n",
      "\n",
      "              Volume   Change1  \n",
      "Date                            \n",
      "2015-01-05  313400.0 -0.005549  \n",
      "2015-01-06  303700.0 -0.017382  \n",
      "2015-01-07  280500.0  0.000733  \n",
      "2015-01-08  262200.0  0.011052  \n",
      "2015-01-09  308800.0  0.010527  \n",
      "Index(['Open', 'High', 'Low', 'Close', 'Adj Close', 'Volume', 'Change1'], dtype='object')\n",
      "(1531, 7)\n"
     ]
    }
   ],
   "source": [
    "kospi_train = fdr.DataReader('KS11', '2015-01-01','2021-03-31')\n",
    "kospi_train['Change1'] = kospi_train['Close']/kospi_train['Close'].shift(1) - 1\n",
    "\n",
    "kospi_train = kospi_train.dropna()\n",
    "print(kospi_train.head())\n",
    "print(kospi_train.columns)\n",
    "print(kospi_train.shape)"
   ]
  },
  {
   "cell_type": "code",
   "execution_count": 6,
   "id": "c1c875dc",
   "metadata": {},
   "outputs": [
    {
     "name": "stdout",
     "output_type": "stream",
     "text": [
      "                   Open         High          Low        Close    Adj Close  \\\n",
      "Date                                                                          \n",
      "2021-04-02  3104.719971  3121.580078  3101.600098  3112.800049  3112.800049   \n",
      "2021-04-05  3121.229980  3127.199951  3101.860107  3120.830078  3120.830078   \n",
      "2021-04-06  3123.800049  3139.290039  3110.189941  3127.080078  3127.080078   \n",
      "2021-04-07  3129.070068  3146.189941  3125.330078  3137.409912  3137.409912   \n",
      "2021-04-08  3137.250000  3145.810059  3122.090088  3143.260010  3143.260010   \n",
      "\n",
      "             Volume   Change1  \n",
      "Date                           \n",
      "2021-04-02   792700  0.008227  \n",
      "2021-04-05  1084800  0.002580  \n",
      "2021-04-06  1279000  0.002003  \n",
      "2021-04-07  1984800  0.003303  \n",
      "2021-04-08  1357300  0.001865  \n",
      "Index(['Open', 'High', 'Low', 'Close', 'Adj Close', 'Volume', 'Change1'], dtype='object')\n",
      "(388, 7)\n"
     ]
    }
   ],
   "source": [
    "kospi_test = fdr.DataReader('KS11', '2021-04-01','2022-10-31')\n",
    "kospi_test['Change1'] = kospi_test['Close']/kospi_test['Close'].shift(1) - 1\n",
    "\n",
    "kospi_test = kospi_test.dropna()\n",
    "print(kospi_test.head())\n",
    "print(kospi_test.columns)\n",
    "print(kospi_test.shape)"
   ]
  },
  {
   "cell_type": "code",
   "execution_count": 7,
   "id": "44840c50",
   "metadata": {},
   "outputs": [
    {
     "name": "stdout",
     "output_type": "stream",
     "text": [
      "Index(['2015-01-05', '2015-01-06', '2015-01-07', '2015-01-08', '2015-01-09',\n",
      "       '2015-01-12', '2015-01-13', '2015-01-14', '2015-01-15', '2015-01-16',\n",
      "       ...\n",
      "       '2021-03-18', '2021-03-19', '2021-03-22', '2021-03-23', '2021-03-24',\n",
      "       '2021-03-25', '2021-03-26', '2021-03-29', '2021-03-30', '2021-03-31'],\n",
      "      dtype='object', name='Date', length=1531)\n",
      "Index(['2021-04-02', '2021-04-05', '2021-04-06', '2021-04-07', '2021-04-08',\n",
      "       '2021-04-09', '2021-04-12', '2021-04-13', '2021-04-14', '2021-04-15',\n",
      "       ...\n",
      "       '2022-10-18', '2022-10-19', '2022-10-20', '2022-10-21', '2022-10-24',\n",
      "       '2022-10-25', '2022-10-26', '2022-10-27', '2022-10-28', '2022-10-31'],\n",
      "      dtype='object', name='Date', length=388)\n"
     ]
    }
   ],
   "source": [
    "kospi_train.index = kospi_train.index.strftime('%Y-%m-%d')\n",
    "print(kospi_train.index)\n",
    "\n",
    "kospi_test.index = kospi_test.index.strftime('%Y-%m-%d')\n",
    "print(kospi_test.index)"
   ]
  },
  {
   "cell_type": "code",
   "execution_count": 8,
   "id": "4237d2cf",
   "metadata": {},
   "outputs": [],
   "source": [
    "import json\n",
    "embedding = open('/home/work/nlp/embedding/result/news_title_128.json', encoding='utf-8')\n",
    "em_dict = json.load(embedding)"
   ]
  },
  {
   "cell_type": "code",
   "execution_count": 9,
   "id": "44b224bd",
   "metadata": {},
   "outputs": [],
   "source": [
    "ke_vec_train = []\n",
    "ke_vec_test = []\n",
    "\n",
    "for index, row in kospi_train.iterrows():\n",
    "    a = em_dict[index].copy()\n",
    "    a.insert(0, row['Change1'])\n",
    "    ke_vec_train.append(a)\n",
    "\n",
    "for index, row in kospi_test.iterrows():\n",
    "    a = em_dict[index].copy()\n",
    "    a.insert(0, row['Change1'])\n",
    "    ke_vec_test.append(a)"
   ]
  },
  {
   "cell_type": "code",
   "execution_count": 10,
   "id": "5262a54e",
   "metadata": {},
   "outputs": [],
   "source": [
    "kospi_train_c1 = kospi_train['Change1']\n",
    "kospi_train_c1 = 100 * kospi_train_c1.values\n",
    "\n",
    "kospi_test_c1 = kospi_test['Change1']\n",
    "kospi_test_c1 = 100 * kospi_test_c1.values"
   ]
  },
  {
   "cell_type": "code",
   "execution_count": 11,
   "id": "20983e7a",
   "metadata": {},
   "outputs": [],
   "source": [
    "lookback_window = 60\n",
    "x_train_1, y_train_1 = [], []\n",
    "x_test_1, y_test_1 = [], []"
   ]
  },
  {
   "cell_type": "code",
   "execution_count": 12,
   "id": "60fe6fea",
   "metadata": {},
   "outputs": [],
   "source": [
    "for i in range(lookback_window, len(ke_vec_train)-1):\n",
    "    x_train_1.append(ke_vec_train[i - lookback_window:i])\n",
    "    y_train_1.append(kospi_train_c1[i])\n",
    "    \n",
    "for index in range(len(y_train_1)):\n",
    "    if y_train_1[index]>= -0.1 and y_train_1[index] < 0.1:\n",
    "        y_train_1[index] = 'neutral'\n",
    "    elif y_train_1[index] >= 0.1:\n",
    "        y_train_1[index] = 'increase'\n",
    "    else:\n",
    "        y_train_1[index] = 'decrease' "
   ]
  },
  {
   "cell_type": "code",
   "execution_count": 13,
   "id": "20f1b8a2",
   "metadata": {},
   "outputs": [
    {
     "name": "stdout",
     "output_type": "stream",
     "text": [
      "(1470, 60, 129) (1470,)\n"
     ]
    }
   ],
   "source": [
    "x_train_1 = np.array(x_train_1)\n",
    "y_train_1 = np.array(y_train_1)\n",
    "print(x_train_1.shape, y_train_1.shape)"
   ]
  },
  {
   "cell_type": "code",
   "execution_count": 14,
   "id": "7b5fe0e5",
   "metadata": {},
   "outputs": [],
   "source": [
    "for i in range(lookback_window, len(ke_vec_test)-1):\n",
    "    x_test_1.append(ke_vec_test[i - lookback_window:i])\n",
    "    y_test_1.append(kospi_test_c1[i])\n",
    "    \n",
    "for index in range(len(y_test_1)):\n",
    "    if y_test_1[index]>= -0.1 and y_test_1[index] < 0.1:\n",
    "        y_test_1[index] = 'neutral'\n",
    "    elif y_test_1[index] >= 0.1:\n",
    "        y_test_1[index] = 'increase'\n",
    "    else:\n",
    "        y_test_1[index] = 'decrease'    "
   ]
  },
  {
   "cell_type": "code",
   "execution_count": 15,
   "id": "0fe4d3b0",
   "metadata": {},
   "outputs": [
    {
     "name": "stdout",
     "output_type": "stream",
     "text": [
      "(327, 60, 129) (327,)\n"
     ]
    }
   ],
   "source": [
    "x_test_1 = np.array(x_test_1)\n",
    "y_test_1 = np.array(y_test_1)\n",
    "print(x_test_1.shape, y_test_1.shape)"
   ]
  },
  {
   "cell_type": "code",
   "execution_count": 16,
   "id": "4486d859",
   "metadata": {},
   "outputs": [
    {
     "name": "stdout",
     "output_type": "stream",
     "text": [
      "(1470, 3) (327, 3)\n"
     ]
    }
   ],
   "source": [
    "from sklearn.preprocessing import LabelEncoder\n",
    "from tensorflow.keras.utils import to_categorical\n",
    "encoder = LabelEncoder()\n",
    "encoder.fit(y_train_1)\n",
    "\n",
    "y_train_1_e = to_categorical(encoder.transform(y_train_1))\n",
    "y_test_1_e = to_categorical(encoder.transform(y_test_1))\n",
    "\n",
    "print(y_train_1_e.shape, y_test_1_e.shape)"
   ]
  },
  {
   "cell_type": "code",
   "execution_count": 17,
   "id": "90d2ca97",
   "metadata": {},
   "outputs": [
    {
     "name": "stderr",
     "output_type": "stream",
     "text": [
      "2023-02-07 04:50:41.229197: I tensorflow/core/platform/cpu_feature_guard.cc:193] This TensorFlow binary is optimized with oneAPI Deep Neural Network Library (oneDNN) to use the following CPU instructions in performance-critical operations:  AVX2 AVX512F AVX512_VNNI FMA\n",
      "To enable them in other operations, rebuild TensorFlow with the appropriate compiler flags.\n",
      "2023-02-07 04:50:41.914668: I tensorflow/core/common_runtime/gpu/gpu_device.cc:1613] Created device /job:localhost/replica:0/task:0/device:GPU:0 with 10315 MB memory:  -> device: 0, name: CUDA GPU, pci bus id: 0000:d5:00.0, compute capability: 8.6\n"
     ]
    },
    {
     "name": "stdout",
     "output_type": "stream",
     "text": [
      "Model: \"sequential\"\n",
      "_________________________________________________________________\n",
      " Layer (type)                Output Shape              Param #   \n",
      "=================================================================\n",
      " tcn (TCN)                   (None, 100)               461000    \n",
      "                                                                 \n",
      " dense (Dense)               (None, 3)                 303       \n",
      "                                                                 \n",
      "=================================================================\n",
      "Total params: 461,303\n",
      "Trainable params: 461,303\n",
      "Non-trainable params: 0\n",
      "_________________________________________________________________\n",
      "Model: \"sequential_1\"\n",
      "_________________________________________________________________\n",
      " Layer (type)                Output Shape              Param #   \n",
      "=================================================================\n",
      " tcn_1 (TCN)                 (None, 100)               683900    \n",
      "                                                                 \n",
      " dense_1 (Dense)             (None, 3)                 303       \n",
      "                                                                 \n",
      "=================================================================\n",
      "Total params: 684,203\n",
      "Trainable params: 684,203\n",
      "Non-trainable params: 0\n",
      "_________________________________________________________________\n",
      "Model: \"sequential_2\"\n",
      "_________________________________________________________________\n",
      " Layer (type)                Output Shape              Param #   \n",
      "=================================================================\n",
      " tcn_2 (TCN)                 (None, 100)               906800    \n",
      "                                                                 \n",
      " dense_2 (Dense)             (None, 3)                 303       \n",
      "                                                                 \n",
      "=================================================================\n",
      "Total params: 907,103\n",
      "Trainable params: 907,103\n",
      "Non-trainable params: 0\n",
      "_________________________________________________________________\n"
     ]
    }
   ],
   "source": [
    "model_1 = Sequential([\n",
    "    TCN(input_shape=(lookback_window, 129),\n",
    "        nb_filters=100,\n",
    "        kernel_size=2,\n",
    "        dilations=[1, 2, 4, 8, 16, 32, 64, 128, 256, 512, 1024]\n",
    "        ),\n",
    "    Dense(3, activation='softmax')\n",
    "])\n",
    "\n",
    "model_1.summary()\n",
    "model_1.compile(loss='categorical_crossentropy', optimizer='adam', metrics=['accuracy'])\n",
    "###################################################################\n",
    "model_2 = Sequential([\n",
    "    TCN(input_shape=(lookback_window, 129),\n",
    "        nb_filters=100,\n",
    "        kernel_size=3,\n",
    "        dilations=[1, 2, 4, 8, 16, 32, 64, 128, 256, 512, 1024]\n",
    "        ),\n",
    "    Dense(3, activation='softmax')\n",
    "])\n",
    "\n",
    "model_2.summary()\n",
    "model_2.compile(loss='categorical_crossentropy', optimizer='adam', metrics=['accuracy'])\n",
    "###################################################################\n",
    "model_3 = Sequential([\n",
    "    TCN(input_shape=(lookback_window, 129),\n",
    "        nb_filters=100,\n",
    "        kernel_size=4,\n",
    "        dilations=[1, 2, 4, 8, 16, 32, 64, 128, 256, 512, 1024]\n",
    "        ),\n",
    "    Dense(3, activation='softmax')\n",
    "])\n",
    "\n",
    "model_3.summary()\n",
    "model_3.compile(loss='categorical_crossentropy', optimizer='adam', metrics=['accuracy'])"
   ]
  },
  {
   "cell_type": "code",
   "execution_count": null,
   "id": "573ee7bd",
   "metadata": {},
   "outputs": [
    {
     "name": "stdout",
     "output_type": "stream",
     "text": [
      "Train model_1...\n",
      "Epoch 1/30\n",
      "46/46 [==============================] - 73s 953ms/step - loss: 1.4999 - accuracy: 0.4136\n",
      "Epoch 2/30\n",
      "46/46 [==============================] - 3s 60ms/step - loss: 0.9372 - accuracy: 0.5286\n",
      "Epoch 3/30\n",
      "46/46 [==============================] - 1s 31ms/step - loss: 0.8459 - accuracy: 0.6095\n",
      "Epoch 4/30\n",
      "46/46 [==============================] - 1s 32ms/step - loss: 0.6827 - accuracy: 0.7231\n",
      "Epoch 5/30\n",
      "46/46 [==============================] - 1s 29ms/step - loss: 0.4925 - accuracy: 0.8054\n",
      "Epoch 6/30\n",
      "46/46 [==============================] - 1s 29ms/step - loss: 0.3173 - accuracy: 0.8844\n",
      "Epoch 7/30\n",
      "46/46 [==============================] - 1s 30ms/step - loss: 0.1948 - accuracy: 0.9313\n",
      "Epoch 8/30\n",
      "46/46 [==============================] - 1s 30ms/step - loss: 0.2094 - accuracy: 0.9156\n",
      "Epoch 9/30\n",
      "46/46 [==============================] - 1s 28ms/step - loss: 0.1435 - accuracy: 0.9476\n",
      "Epoch 10/30\n",
      "46/46 [==============================] - 1s 31ms/step - loss: 0.0630 - accuracy: 0.9762\n",
      "Epoch 11/30\n",
      "46/46 [==============================] - 1s 31ms/step - loss: 0.0763 - accuracy: 0.9694\n",
      "Epoch 12/30\n",
      "46/46 [==============================] - 1s 31ms/step - loss: 0.0775 - accuracy: 0.9673\n",
      "Epoch 13/30\n",
      "46/46 [==============================] - 1s 30ms/step - loss: 0.0951 - accuracy: 0.9667\n",
      "Epoch 14/30\n",
      "46/46 [==============================] - 1s 29ms/step - loss: 0.0676 - accuracy: 0.9755\n",
      "Epoch 15/30\n",
      "46/46 [==============================] - 1s 29ms/step - loss: 0.1057 - accuracy: 0.9599\n",
      "Epoch 16/30\n",
      "46/46 [==============================] - 1s 30ms/step - loss: 0.0639 - accuracy: 0.9748\n",
      "Epoch 17/30\n",
      "46/46 [==============================] - 1s 30ms/step - loss: 0.0548 - accuracy: 0.9816\n",
      "Epoch 18/30\n",
      "46/46 [==============================] - 1s 31ms/step - loss: 0.0254 - accuracy: 0.9932\n",
      "Epoch 19/30\n",
      "46/46 [==============================] - 1s 29ms/step - loss: 0.0105 - accuracy: 0.9959\n",
      "Epoch 20/30\n",
      "46/46 [==============================] - 1s 29ms/step - loss: 0.0201 - accuracy: 0.9932\n",
      "Epoch 21/30\n",
      "46/46 [==============================] - 1s 29ms/step - loss: 0.0734 - accuracy: 0.9728\n",
      "Epoch 22/30\n",
      "46/46 [==============================] - 1s 31ms/step - loss: 0.0871 - accuracy: 0.9701\n",
      "Epoch 23/30\n",
      "46/46 [==============================] - 1s 29ms/step - loss: 0.0359 - accuracy: 0.9844\n",
      "Epoch 24/30\n",
      "46/46 [==============================] - 1s 30ms/step - loss: 0.0486 - accuracy: 0.9803\n",
      "Epoch 25/30\n",
      "46/46 [==============================] - 1s 28ms/step - loss: 0.0479 - accuracy: 0.9803\n",
      "Epoch 26/30\n",
      "46/46 [==============================] - 1s 31ms/step - loss: 0.0382 - accuracy: 0.9871\n",
      "Epoch 27/30\n",
      "46/46 [==============================] - 1s 30ms/step - loss: 0.0528 - accuracy: 0.9810\n",
      "Epoch 28/30\n",
      "46/46 [==============================] - 1s 30ms/step - loss: 0.0488 - accuracy: 0.9857\n",
      "Epoch 29/30\n",
      "46/46 [==============================] - 1s 31ms/step - loss: 0.0302 - accuracy: 0.9898\n",
      "Epoch 30/30\n",
      "46/46 [==============================] - 1s 31ms/step - loss: 0.0184 - accuracy: 0.9946\n",
      "Train model_2...\n",
      "Epoch 1/30\n",
      "46/46 [==============================] - 60s 575ms/step - loss: 1.4477 - accuracy: 0.4612\n",
      "Epoch 2/30\n",
      "46/46 [==============================] - 2s 33ms/step - loss: 0.9424 - accuracy: 0.5299\n",
      "Epoch 3/30\n",
      "46/46 [==============================] - 1s 32ms/step - loss: 0.8325 - accuracy: 0.6435\n",
      "Epoch 4/30\n",
      "46/46 [==============================] - 1s 31ms/step - loss: 0.6645 - accuracy: 0.7354\n",
      "Epoch 5/30\n",
      "46/46 [==============================] - 1s 33ms/step - loss: 0.4177 - accuracy: 0.8456\n",
      "Epoch 6/30\n",
      "46/46 [==============================] - 1s 32ms/step - loss: 0.2301 - accuracy: 0.9143\n",
      "Epoch 7/30\n",
      "46/46 [==============================] - 1s 32ms/step - loss: 0.2193 - accuracy: 0.9150\n",
      "Epoch 8/30\n",
      "46/46 [==============================] - 1s 31ms/step - loss: 0.1186 - accuracy: 0.9653\n",
      "Epoch 9/30\n",
      "46/46 [==============================] - 1s 31ms/step - loss: 0.1561 - accuracy: 0.9408\n",
      "Epoch 10/30\n",
      "46/46 [==============================] - 1s 32ms/step - loss: 0.0892 - accuracy: 0.9653\n",
      "Epoch 11/30\n",
      "46/46 [==============================] - 1s 32ms/step - loss: 0.0212 - accuracy: 0.9939\n",
      "Epoch 12/30\n",
      "46/46 [==============================] - 1s 33ms/step - loss: 0.0099 - accuracy: 0.9973\n",
      "Epoch 13/30\n",
      "46/46 [==============================] - 1s 31ms/step - loss: 0.0031 - accuracy: 1.0000\n",
      "Epoch 14/30\n",
      "46/46 [==============================] - 2s 34ms/step - loss: 4.6057e-04 - accuracy: 1.0000\n",
      "Epoch 15/30\n",
      "46/46 [==============================] - 1s 32ms/step - loss: 1.4931e-04 - accuracy: 1.0000\n",
      "Epoch 16/30\n",
      "46/46 [==============================] - 1s 32ms/step - loss: 1.0003e-04 - accuracy: 1.0000\n",
      "Epoch 17/30\n",
      "46/46 [==============================] - 1s 31ms/step - loss: 8.0729e-05 - accuracy: 1.0000\n",
      "Epoch 18/30\n",
      "46/46 [==============================] - 1s 31ms/step - loss: 6.7222e-05 - accuracy: 1.0000\n",
      "Epoch 19/30\n",
      "46/46 [==============================] - 1s 30ms/step - loss: 5.7546e-05 - accuracy: 1.0000\n",
      "Epoch 20/30\n",
      "46/46 [==============================] - 1s 32ms/step - loss: 4.9899e-05 - accuracy: 1.0000\n",
      "Epoch 21/30\n",
      "46/46 [==============================] - 1s 32ms/step - loss: 4.3767e-05 - accuracy: 1.0000\n",
      "Epoch 22/30\n",
      "46/46 [==============================] - 1s 31ms/step - loss: 3.8830e-05 - accuracy: 1.0000\n",
      "Epoch 23/30\n",
      "46/46 [==============================] - 1s 32ms/step - loss: 3.4754e-05 - accuracy: 1.0000\n",
      "Epoch 24/30\n",
      "46/46 [==============================] - 1s 31ms/step - loss: 3.1320e-05 - accuracy: 1.0000\n",
      "Epoch 25/30\n",
      "46/46 [==============================] - 1s 30ms/step - loss: 2.8419e-05 - accuracy: 1.0000\n",
      "Epoch 26/30\n",
      "46/46 [==============================] - 1s 31ms/step - loss: 2.5842e-05 - accuracy: 1.0000\n",
      "Epoch 27/30\n",
      "46/46 [==============================] - 1s 32ms/step - loss: 2.3633e-05 - accuracy: 1.0000\n",
      "Epoch 28/30\n",
      "46/46 [==============================] - 1s 31ms/step - loss: 2.1699e-05 - accuracy: 1.0000\n",
      "Epoch 29/30\n",
      "46/46 [==============================] - 1s 32ms/step - loss: 2.0011e-05 - accuracy: 1.0000\n",
      "Epoch 30/30\n",
      "46/46 [==============================] - 2s 34ms/step - loss: 1.8467e-05 - accuracy: 1.0000\n",
      "Train model_3...\n",
      "Epoch 1/30\n",
      "46/46 [==============================] - 61s 579ms/step - loss: 1.1999 - accuracy: 0.4490\n",
      "Epoch 2/30\n",
      "46/46 [==============================] - 1s 31ms/step - loss: 0.9236 - accuracy: 0.5592\n",
      "Epoch 3/30\n",
      "46/46 [==============================] - 1s 30ms/step - loss: 0.7703 - accuracy: 0.6728\n",
      "Epoch 4/30\n",
      "46/46 [==============================] - 1s 32ms/step - loss: 0.5686 - accuracy: 0.7694\n",
      "Epoch 5/30\n",
      "46/46 [==============================] - 2s 33ms/step - loss: 0.3026 - accuracy: 0.8932\n",
      "Epoch 6/30\n",
      "46/46 [==============================] - 2s 33ms/step - loss: 0.1926 - accuracy: 0.9354\n",
      "Epoch 7/30\n",
      "46/46 [==============================] - 2s 34ms/step - loss: 0.1814 - accuracy: 0.9313\n",
      "Epoch 8/30\n",
      "46/46 [==============================] - 1s 31ms/step - loss: 0.0507 - accuracy: 0.9850\n",
      "Epoch 9/30\n",
      "46/46 [==============================] - 1s 31ms/step - loss: 0.0705 - accuracy: 0.9741\n",
      "Epoch 10/30\n",
      "46/46 [==============================] - 1s 30ms/step - loss: 0.0519 - accuracy: 0.9776\n",
      "Epoch 11/30\n",
      "46/46 [==============================] - 1s 32ms/step - loss: 0.1065 - accuracy: 0.9605\n",
      "Epoch 12/30\n",
      "46/46 [==============================] - 1s 31ms/step - loss: 0.0673 - accuracy: 0.9741\n",
      "Epoch 13/30\n",
      "46/46 [==============================] - 2s 33ms/step - loss: 0.0984 - accuracy: 0.9694\n",
      "Epoch 14/30\n",
      "46/46 [==============================] - 2s 33ms/step - loss: 0.0440 - accuracy: 0.9850\n",
      "Epoch 15/30\n",
      "46/46 [==============================] - 2s 34ms/step - loss: 0.0158 - accuracy: 0.9946\n",
      "Epoch 16/30\n",
      "46/46 [==============================] - 2s 33ms/step - loss: 0.0335 - accuracy: 0.9925\n",
      "Epoch 17/30\n",
      "46/46 [==============================] - 1s 32ms/step - loss: 0.0388 - accuracy: 0.9837\n",
      "Epoch 18/30\n",
      "46/46 [==============================] - 2s 35ms/step - loss: 0.0154 - accuracy: 0.9939\n",
      "Epoch 19/30\n",
      "46/46 [==============================] - 1s 31ms/step - loss: 0.0036 - accuracy: 1.0000\n",
      "Epoch 20/30\n",
      "46/46 [==============================] - 1s 32ms/step - loss: 8.1742e-04 - accuracy: 1.0000\n",
      "Epoch 21/30\n",
      "46/46 [==============================] - 1s 33ms/step - loss: 1.4326e-04 - accuracy: 1.0000\n",
      "Epoch 22/30\n",
      "46/46 [==============================] - 1s 32ms/step - loss: 7.6054e-05 - accuracy: 1.0000\n",
      "Epoch 23/30\n",
      "46/46 [==============================] - 2s 34ms/step - loss: 5.9196e-05 - accuracy: 1.0000\n",
      "Epoch 24/30\n",
      "46/46 [==============================] - 2s 33ms/step - loss: 4.8903e-05 - accuracy: 1.0000\n",
      "Epoch 25/30\n",
      "46/46 [==============================] - 1s 32ms/step - loss: 4.1570e-05 - accuracy: 1.0000\n",
      "Epoch 26/30\n",
      "46/46 [==============================] - 2s 33ms/step - loss: 3.6044e-05 - accuracy: 1.0000\n",
      "Epoch 27/30\n",
      "46/46 [==============================] - 2s 33ms/step - loss: 3.1531e-05 - accuracy: 1.0000\n",
      "Epoch 28/30\n",
      "46/46 [==============================] - 1s 32ms/step - loss: 2.7951e-05 - accuracy: 1.0000\n",
      "Epoch 29/30\n",
      "46/46 [==============================] - 2s 34ms/step - loss: 2.4988e-05 - accuracy: 1.0000\n",
      "Epoch 30/30\n",
      "46/46 [==============================] - 2s 33ms/step - loss: 2.2442e-05 - accuracy: 1.0000\n"
     ]
    }
   ],
   "source": [
    "print('Train model_1...')\n",
    "model_1.fit(x_train_1, y_train_1_e, epochs=30, verbose=1)\n",
    "model_1.save('/home/work/nlp/TCN_models/classification_model/embedding/1day/kospi_embedding_1day_classification_k2.h5')\n",
    "\n",
    "print('Train model_2...')\n",
    "model_2.fit(x_train_1, y_train_1_e, epochs=30, verbose=1)\n",
    "model_2.save('/home/work/nlp/TCN_models/classification_model/embedding/1day/kospi_embedding_1day_classification_k3.h5')\n",
    "\n",
    "print('Train model_3...')\n",
    "model_3.fit(x_train_1, y_train_1_e, epochs=30, verbose=1)\n",
    "model_3.save('/home/work/nlp/TCN_models/classification_model/embedding/1day/kospi_embedding_1day_classification_k4.h5')"
   ]
  },
  {
   "cell_type": "code",
   "execution_count": null,
   "id": "04d30398",
   "metadata": {},
   "outputs": [],
   "source": [
    "model_1.evaluate(x_test_1, y_test_1_e)[1]\n",
    "model_2.evaluate(x_test_1, y_test_1_e)[1]\n",
    "model_3.evaluate(x_test_1, y_test_1_e)[1]"
   ]
  }
 ],
 "metadata": {
  "kernelspec": {
   "display_name": "PyTorch 1.13 (NGC 22.05/Python 3.8 Conda) on Backend.AI",
   "language": "python",
   "name": "python3"
  },
  "language_info": {
   "codemirror_mode": {
    "name": "ipython",
    "version": 3
   },
   "file_extension": ".py",
   "mimetype": "text/x-python",
   "name": "python",
   "nbconvert_exporter": "python",
   "pygments_lexer": "ipython3",
   "version": "3.8.13"
  }
 },
 "nbformat": 4,
 "nbformat_minor": 5
}
