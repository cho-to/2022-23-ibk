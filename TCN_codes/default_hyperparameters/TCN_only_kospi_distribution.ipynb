{
 "cells": [
  {
   "cell_type": "code",
   "execution_count": 1,
   "id": "6c654451",
   "metadata": {},
   "outputs": [
    {
     "name": "stdout",
     "output_type": "stream",
     "text": [
      "Defaulting to user installation because normal site-packages is not writeable\n",
      "Looking in indexes: https://pypi.org/simple, https://pypi.ngc.nvidia.com\n",
      "Requirement already satisfied: keras-tcn in /home/work/.local/lib/python3.8/site-packages (3.5.0)\n",
      "Requirement already satisfied: tensorflow-addons in /home/work/.local/lib/python3.8/site-packages (from keras-tcn) (0.19.0)\n",
      "Requirement already satisfied: numpy in /opt/conda/lib/python3.8/site-packages (from keras-tcn) (1.22.3)\n",
      "Requirement already satisfied: tensorflow in /home/work/.local/lib/python3.8/site-packages (from keras-tcn) (2.11.0)\n",
      "Requirement already satisfied: keras<2.12,>=2.11.0 in /home/work/.local/lib/python3.8/site-packages (from tensorflow->keras-tcn) (2.11.0)\n",
      "Requirement already satisfied: h5py>=2.9.0 in /opt/conda/lib/python3.8/site-packages (from tensorflow->keras-tcn) (2.10.0)\n",
      "Requirement already satisfied: tensorboard<2.12,>=2.11 in /home/work/.local/lib/python3.8/site-packages (from tensorflow->keras-tcn) (2.11.0)\n",
      "Requirement already satisfied: flatbuffers>=2.0 in /home/work/.local/lib/python3.8/site-packages (from tensorflow->keras-tcn) (22.12.6)\n",
      "Requirement already satisfied: gast<=0.4.0,>=0.2.1 in /home/work/.local/lib/python3.8/site-packages (from tensorflow->keras-tcn) (0.4.0)\n",
      "Requirement already satisfied: libclang>=13.0.0 in /home/work/.local/lib/python3.8/site-packages (from tensorflow->keras-tcn) (14.0.6)\n",
      "Requirement already satisfied: typing-extensions>=3.6.6 in /opt/conda/lib/python3.8/site-packages (from tensorflow->keras-tcn) (4.2.0)\n",
      "Requirement already satisfied: astunparse>=1.6.0 in /home/work/.local/lib/python3.8/site-packages (from tensorflow->keras-tcn) (1.6.3)\n",
      "Requirement already satisfied: absl-py>=1.0.0 in /home/work/.local/lib/python3.8/site-packages (from tensorflow->keras-tcn) (1.3.0)\n",
      "Requirement already satisfied: termcolor>=1.1.0 in /opt/conda/lib/python3.8/site-packages (from tensorflow->keras-tcn) (1.1.0)\n",
      "Requirement already satisfied: wrapt>=1.11.0 in /opt/conda/lib/python3.8/site-packages (from tensorflow->keras-tcn) (1.14.1)\n",
      "Requirement already satisfied: grpcio<2.0,>=1.24.3 in /opt/conda/lib/python3.8/site-packages (from tensorflow->keras-tcn) (1.44.0)\n",
      "Requirement already satisfied: tensorflow-io-gcs-filesystem>=0.23.1 in /home/work/.local/lib/python3.8/site-packages (from tensorflow->keras-tcn) (0.29.0)\n",
      "Requirement already satisfied: tensorflow-estimator<2.12,>=2.11.0 in /home/work/.local/lib/python3.8/site-packages (from tensorflow->keras-tcn) (2.11.0)\n",
      "Requirement already satisfied: packaging in /opt/conda/lib/python3.8/site-packages (from tensorflow->keras-tcn) (21.3)\n",
      "Requirement already satisfied: opt-einsum>=2.3.2 in /opt/conda/lib/python3.8/site-packages (from tensorflow->keras-tcn) (3.2.0)\n",
      "Requirement already satisfied: protobuf<3.20,>=3.9.2 in /home/work/.local/lib/python3.8/site-packages (from tensorflow->keras-tcn) (3.19.6)\n",
      "Requirement already satisfied: google-pasta>=0.1.1 in /opt/conda/lib/python3.8/site-packages (from tensorflow->keras-tcn) (0.1.8)\n",
      "Requirement already satisfied: six>=1.12.0 in /opt/conda/lib/python3.8/site-packages (from tensorflow->keras-tcn) (1.16.0)\n",
      "Requirement already satisfied: setuptools in /opt/conda/lib/python3.8/site-packages (from tensorflow->keras-tcn) (59.5.0)\n",
      "Requirement already satisfied: wheel<1.0,>=0.23.0 in /opt/conda/lib/python3.8/site-packages (from astunparse>=1.6.0->tensorflow->keras-tcn) (0.37.1)\n",
      "Requirement already satisfied: google-auth<3,>=1.6.3 in /opt/conda/lib/python3.8/site-packages (from tensorboard<2.12,>=2.11->tensorflow->keras-tcn) (1.34.0)\n",
      "Requirement already satisfied: requests<3,>=2.21.0 in /opt/conda/lib/python3.8/site-packages (from tensorboard<2.12,>=2.11->tensorflow->keras-tcn) (2.27.1)\n",
      "Requirement already satisfied: tensorboard-data-server<0.7.0,>=0.6.0 in /opt/conda/lib/python3.8/site-packages (from tensorboard<2.12,>=2.11->tensorflow->keras-tcn) (0.6.1)\n",
      "Requirement already satisfied: werkzeug>=1.0.1 in /opt/conda/lib/python3.8/site-packages (from tensorboard<2.12,>=2.11->tensorflow->keras-tcn) (2.0.3)\n",
      "Requirement already satisfied: markdown>=2.6.8 in /opt/conda/lib/python3.8/site-packages (from tensorboard<2.12,>=2.11->tensorflow->keras-tcn) (3.3.7)\n",
      "Requirement already satisfied: tensorboard-plugin-wit>=1.6.0 in /opt/conda/lib/python3.8/site-packages (from tensorboard<2.12,>=2.11->tensorflow->keras-tcn) (1.8.1)\n",
      "Requirement already satisfied: google-auth-oauthlib<0.5,>=0.4.1 in /opt/conda/lib/python3.8/site-packages (from tensorboard<2.12,>=2.11->tensorflow->keras-tcn) (0.4.6)\n",
      "Requirement already satisfied: rsa<5,>=3.1.4 in /opt/conda/lib/python3.8/site-packages (from google-auth<3,>=1.6.3->tensorboard<2.12,>=2.11->tensorflow->keras-tcn) (4.8)\n",
      "Requirement already satisfied: cachetools<5.0,>=2.0.0 in /opt/conda/lib/python3.8/site-packages (from google-auth<3,>=1.6.3->tensorboard<2.12,>=2.11->tensorflow->keras-tcn) (4.2.2)\n",
      "Requirement already satisfied: pyasn1-modules>=0.2.1 in /opt/conda/lib/python3.8/site-packages (from google-auth<3,>=1.6.3->tensorboard<2.12,>=2.11->tensorflow->keras-tcn) (0.2.8)\n",
      "Requirement already satisfied: requests-oauthlib>=0.7.0 in /opt/conda/lib/python3.8/site-packages (from google-auth-oauthlib<0.5,>=0.4.1->tensorboard<2.12,>=2.11->tensorflow->keras-tcn) (1.3.1)\n",
      "Requirement already satisfied: importlib-metadata>=4.4 in /opt/conda/lib/python3.8/site-packages (from markdown>=2.6.8->tensorboard<2.12,>=2.11->tensorflow->keras-tcn) (4.11.4)\n",
      "Requirement already satisfied: zipp>=0.5 in /opt/conda/lib/python3.8/site-packages (from importlib-metadata>=4.4->markdown>=2.6.8->tensorboard<2.12,>=2.11->tensorflow->keras-tcn) (3.8.1)\n",
      "Requirement already satisfied: pyasn1<0.5.0,>=0.4.6 in /opt/conda/lib/python3.8/site-packages (from pyasn1-modules>=0.2.1->google-auth<3,>=1.6.3->tensorboard<2.12,>=2.11->tensorflow->keras-tcn) (0.4.8)\n",
      "Requirement already satisfied: certifi>=2017.4.17 in /opt/conda/lib/python3.8/site-packages (from requests<3,>=2.21.0->tensorboard<2.12,>=2.11->tensorflow->keras-tcn) (2022.6.15)\n",
      "Requirement already satisfied: charset-normalizer~=2.0.0 in /opt/conda/lib/python3.8/site-packages (from requests<3,>=2.21.0->tensorboard<2.12,>=2.11->tensorflow->keras-tcn) (2.0.12)\n",
      "Requirement already satisfied: urllib3<1.27,>=1.21.1 in /opt/conda/lib/python3.8/site-packages (from requests<3,>=2.21.0->tensorboard<2.12,>=2.11->tensorflow->keras-tcn) (1.25.11)\n",
      "Requirement already satisfied: idna<4,>=2.5 in /opt/conda/lib/python3.8/site-packages (from requests<3,>=2.21.0->tensorboard<2.12,>=2.11->tensorflow->keras-tcn) (3.2)\n",
      "Requirement already satisfied: oauthlib>=3.0.0 in /opt/conda/lib/python3.8/site-packages (from requests-oauthlib>=0.7.0->google-auth-oauthlib<0.5,>=0.4.1->tensorboard<2.12,>=2.11->tensorflow->keras-tcn) (3.2.0)\n",
      "Requirement already satisfied: pyparsing!=3.0.5,>=2.0.2 in /opt/conda/lib/python3.8/site-packages (from packaging->tensorflow->keras-tcn) (3.0.8)\n",
      "Requirement already satisfied: typeguard>=2.7 in /opt/conda/lib/python3.8/site-packages (from tensorflow-addons->keras-tcn) (2.13.3)\n",
      "Defaulting to user installation because normal site-packages is not writeable\n",
      "Looking in indexes: https://pypi.org/simple, https://pypi.ngc.nvidia.com\n",
      "Requirement already satisfied: finance-datareader in /home/work/.local/lib/python3.8/site-packages (0.9.50)\n",
      "Requirement already satisfied: requests>=2.3.0 in /opt/conda/lib/python3.8/site-packages (from finance-datareader) (2.27.1)\n",
      "Requirement already satisfied: tqdm in /opt/conda/lib/python3.8/site-packages (from finance-datareader) (4.64.0)\n",
      "Requirement already satisfied: lxml in /opt/conda/lib/python3.8/site-packages (from finance-datareader) (4.9.1)\n",
      "Requirement already satisfied: pandas>=0.19.2 in /home/work/.local/lib/python3.8/site-packages (from finance-datareader) (1.5.2)\n",
      "Requirement already satisfied: requests-file in /home/work/.local/lib/python3.8/site-packages (from finance-datareader) (1.5.1)\n",
      "Requirement already satisfied: pytz>=2020.1 in /opt/conda/lib/python3.8/site-packages (from pandas>=0.19.2->finance-datareader) (2022.1)\n",
      "Requirement already satisfied: numpy>=1.20.3 in /opt/conda/lib/python3.8/site-packages (from pandas>=0.19.2->finance-datareader) (1.22.3)\n",
      "Requirement already satisfied: python-dateutil>=2.8.1 in /opt/conda/lib/python3.8/site-packages (from pandas>=0.19.2->finance-datareader) (2.8.2)\n",
      "Requirement already satisfied: six>=1.5 in /opt/conda/lib/python3.8/site-packages (from python-dateutil>=2.8.1->pandas>=0.19.2->finance-datareader) (1.16.0)\n",
      "Requirement already satisfied: idna<4,>=2.5 in /opt/conda/lib/python3.8/site-packages (from requests>=2.3.0->finance-datareader) (3.2)\n",
      "Requirement already satisfied: certifi>=2017.4.17 in /opt/conda/lib/python3.8/site-packages (from requests>=2.3.0->finance-datareader) (2022.6.15)\n",
      "Requirement already satisfied: urllib3<1.27,>=1.21.1 in /opt/conda/lib/python3.8/site-packages (from requests>=2.3.0->finance-datareader) (1.25.11)\n",
      "Requirement already satisfied: charset-normalizer~=2.0.0 in /opt/conda/lib/python3.8/site-packages (from requests>=2.3.0->finance-datareader) (2.0.12)\n"
     ]
    }
   ],
   "source": [
    "!pip install keras-tcn\n",
    "!pip install -U finance-datareader"
   ]
  },
  {
   "cell_type": "code",
   "execution_count": 2,
   "id": "13ffe65e",
   "metadata": {},
   "outputs": [
    {
     "name": "stderr",
     "output_type": "stream",
     "text": [
      "/home/work/.local/lib/python3.8/site-packages/pandas/core/computation/expressions.py:20: UserWarning: Pandas requires version '2.7.3' or newer of 'numexpr' (version '2.7.0' currently installed).\n",
      "  from pandas.core.computation.check import NUMEXPR_INSTALLED\n",
      "2023-02-03 07:26:47.407734: I tensorflow/core/platform/cpu_feature_guard.cc:193] This TensorFlow binary is optimized with oneAPI Deep Neural Network Library (oneDNN) to use the following CPU instructions in performance-critical operations:  AVX2 AVX512F AVX512_VNNI FMA\n",
      "To enable them in other operations, rebuild TensorFlow with the appropriate compiler flags.\n",
      "2023-02-03 07:26:47.655647: I tensorflow/core/util/port.cc:104] oneDNN custom operations are on. You may see slightly different numerical results due to floating-point round-off errors from different computation orders. To turn them off, set the environment variable `TF_ENABLE_ONEDNN_OPTS=0`.\n",
      "2023-02-03 07:26:51.288060: W tensorflow/compiler/xla/stream_executor/platform/default/dso_loader.cc:64] Could not load dynamic library 'libnvinfer.so.7'; dlerror: libnvinfer.so.7: cannot open shared object file: No such file or directory; LD_LIBRARY_PATH: /usr/local/cuda/compat/lib:/usr/local/cuda/extras/CUPTI/lib64:/usr/local/cuda/lib:/usr/local/cuda/lib64:/usr/local/nvidia/lib64:/usr/local/cuda-11.6/include:/usr/include/x86_64-linux-gnu:/opt/conda/lib/python3.8/site-packages/torch/lib:/opt/conda/lib/python3.8/site-packages/torch_tensorrt/lib:/usr/local/cuda/compat/lib:/usr/local/nvidia/lib:/usr/local/nvidia/lib64\n",
      "2023-02-03 07:26:51.288315: W tensorflow/compiler/xla/stream_executor/platform/default/dso_loader.cc:64] Could not load dynamic library 'libnvinfer_plugin.so.7'; dlerror: libnvinfer_plugin.so.7: cannot open shared object file: No such file or directory; LD_LIBRARY_PATH: /usr/local/cuda/compat/lib:/usr/local/cuda/extras/CUPTI/lib64:/usr/local/cuda/lib:/usr/local/cuda/lib64:/usr/local/nvidia/lib64:/usr/local/cuda-11.6/include:/usr/include/x86_64-linux-gnu:/opt/conda/lib/python3.8/site-packages/torch/lib:/opt/conda/lib/python3.8/site-packages/torch_tensorrt/lib:/usr/local/cuda/compat/lib:/usr/local/nvidia/lib:/usr/local/nvidia/lib64\n",
      "2023-02-03 07:26:51.288338: W tensorflow/compiler/tf2tensorrt/utils/py_utils.cc:38] TF-TRT Warning: Cannot dlopen some TensorRT libraries. If you would like to use Nvidia GPU with TensorRT, please make sure the missing libraries mentioned above are installed properly.\n"
     ]
    }
   ],
   "source": [
    "import numpy as np\n",
    "import pandas as pd\n",
    "import FinanceDataReader as fdr\n",
    "import seaborn as sns\n",
    "from tensorflow.keras import Sequential\n",
    "from tensorflow.keras.layers import Dense\n",
    "from tcn import TCN"
   ]
  },
  {
   "cell_type": "code",
   "execution_count": 3,
   "id": "452f7f0f",
   "metadata": {},
   "outputs": [
    {
     "name": "stdout",
     "output_type": "stream",
     "text": [
      "                  Open        High         Low       Close   Adj Close  \\\n",
      "Date                                                                     \n",
      "1996-12-11  705.989990  709.479980  704.429993  704.679993  704.679993   \n",
      "1996-12-12  705.109985  706.010010  688.739990  689.380005  689.380005   \n",
      "1996-12-13  690.440002  695.719971  677.640015  689.070007  689.070007   \n",
      "1996-12-16  686.969971  686.969971  667.710022  673.919983  673.919983   \n",
      "1996-12-17  675.349976  680.090027  660.390015  663.349976  663.349976   \n",
      "\n",
      "             Volume   Change1  Change7  Change15  Change30  \n",
      "Date                                                        \n",
      "1996-12-11  28000.0       NaN      NaN       NaN       NaN  \n",
      "1996-12-12  25900.0 -0.021712      NaN       NaN       NaN  \n",
      "1996-12-13  26500.0 -0.000450      NaN       NaN       NaN  \n",
      "1996-12-16  22800.0 -0.021986      NaN       NaN       NaN  \n",
      "1996-12-17  31600.0 -0.015684      NaN       NaN       NaN  \n",
      "Index(['Open', 'High', 'Low', 'Close', 'Adj Close', 'Volume', 'Change1',\n",
      "       'Change7', 'Change15', 'Change30'],\n",
      "      dtype='object')\n"
     ]
    }
   ],
   "source": [
    "kospi_train = fdr.DataReader('KS11', '1990-01-01','2017-12-31')\n",
    "kospi_train['Change1'] = kospi_train['Close']/kospi_train['Close'].shift(1) - 1\n",
    "kospi_train['Change7'] = kospi_train['Close']/kospi_train['Close'].shift(7) - 1\n",
    "kospi_train['Change15'] = kospi_train['Close']/kospi_train['Close'].shift(15) - 1\n",
    "kospi_train['Change30'] = kospi_train['Close']/kospi_train['Close'].shift(30) - 1\n",
    "print(kospi_train.head())\n",
    "print(kospi_train.columns)"
   ]
  },
  {
   "cell_type": "code",
   "execution_count": 4,
   "id": "2415e080",
   "metadata": {},
   "outputs": [
    {
     "name": "stdout",
     "output_type": "stream",
     "text": [
      "                  Open        High         Low       Close   Adj Close  \\\n",
      "Date                                                                     \n",
      "1997-01-24  669.030029  679.559998  658.179993  679.559998  679.559998   \n",
      "1997-01-27  684.309998  685.460022  664.679993  664.700012  664.700012   \n",
      "1997-01-28  661.659973  677.630005  653.419983  662.849976  662.849976   \n",
      "1997-01-29  663.330017  672.900024  654.950012  663.559998  663.559998   \n",
      "1997-01-30  663.650024  679.039978  662.270020  676.520020  676.520020   \n",
      "\n",
      "             Volume   Change1   Change7  Change15  Change30  \n",
      "Date                                                         \n",
      "1997-01-24  35500.0  0.003915 -0.028867  0.039416 -0.013801  \n",
      "1997-01-27  28300.0 -0.021867 -0.066249  0.060347 -0.013681  \n",
      "1997-01-28  30400.0 -0.002783 -0.054665  0.084772 -0.000754  \n",
      "1997-01-29  30200.0  0.001071 -0.076413  0.067830  0.003281  \n",
      "1997-01-30  28800.0  0.019531 -0.020303  0.057277 -0.020913  \n",
      "Index(['Open', 'High', 'Low', 'Close', 'Adj Close', 'Volume', 'Change1',\n",
      "       'Change7', 'Change15', 'Change30'],\n",
      "      dtype='object')\n"
     ]
    }
   ],
   "source": [
    "kospi_train = kospi_train.dropna()\n",
    "print(kospi_train.head())\n",
    "print(kospi_train.columns)"
   ]
  },
  {
   "cell_type": "code",
   "execution_count": 5,
   "id": "94791dbb",
   "metadata": {},
   "outputs": [
    {
     "data": {
      "text/plain": [
       "<AxesSubplot:xlabel='Change30'>"
      ]
     },
     "execution_count": 5,
     "metadata": {},
     "output_type": "execute_result"
    },
    {
     "data": {
      "image/png": "[encoded data removed]",
      "text/plain": [
       "<Figure size 432x288 with 1 Axes>"
      ]
     },
     "metadata": {
      "needs_background": "light"
     },
     "output_type": "display_data"
    }
   ],
   "source": [
    "sns.distplot(kospi_train['Change1'])\n",
    "sns.distplot(kospi_train['Change7'])\n",
    "sns.distplot(kospi_train['Change15'])\n",
    "sns.distplot(kospi_train['Change30'])"
   ]
  },
  {
   "cell_type": "code",
   "execution_count": 6,
   "id": "cff64154",
   "metadata": {},
   "outputs": [
    {
     "name": "stdout",
     "output_type": "stream",
     "text": [
      "Date\n",
      "1997-01-24     679.559998\n",
      "1997-01-27     664.700012\n",
      "1997-01-28     662.849976\n",
      "1997-01-29     663.559998\n",
      "1997-01-30     676.520020\n",
      "                 ...     \n",
      "2017-12-21    2429.830078\n",
      "2017-12-22    2440.540039\n",
      "2017-12-26    2427.340088\n",
      "2017-12-27    2436.669922\n",
      "2017-12-28    2467.489990\n",
      "Name: Close, Length: 4668, dtype: float64 Date\n",
      "1997-01-24    0.003915\n",
      "1997-01-27   -0.021867\n",
      "1997-01-28   -0.002783\n",
      "1997-01-29    0.001071\n",
      "1997-01-30    0.019531\n",
      "                ...   \n",
      "2017-12-21   -0.019649\n",
      "2017-12-22    0.004408\n",
      "2017-12-26   -0.005409\n",
      "2017-12-27    0.003844\n",
      "2017-12-28    0.012648\n",
      "Name: Change1, Length: 4668, dtype: float64\n"
     ]
    }
   ],
   "source": [
    "kospi_train_close = kospi_train['Close']\n",
    "kospi_train_c1 = kospi_train['Change1']\n",
    "kospi_train_c7 = kospi_train['Change7']\n",
    "kospi_train_c15 = kospi_train['Change15']\n",
    "kospi_train_c30 = kospi_train['Change30']\n",
    "print(kospi_train_close, kospi_train_c1)"
   ]
  },
  {
   "cell_type": "code",
   "execution_count": 7,
   "id": "1c18820f",
   "metadata": {},
   "outputs": [
    {
     "name": "stdout",
     "output_type": "stream",
     "text": [
      "                   Open         High          Low        Close    Adj Close  \\\n",
      "Date                                                                          \n",
      "2018-01-02  2474.860107  2481.020020  2465.939941  2479.649902  2479.649902   \n",
      "2018-01-03  2484.629883  2493.399902  2481.909912  2486.350098  2486.350098   \n",
      "2018-01-04  2502.500000  2502.500000  2466.449951  2466.459961  2466.459961   \n",
      "2018-01-05  2476.850098  2497.520020  2475.510010  2497.520020  2497.520020   \n",
      "2018-01-08  2510.699951  2515.370117  2494.179932  2513.280029  2513.280029   \n",
      "\n",
      "            Volume   Change1  Change7  Change15  Change30  \n",
      "Date                                                       \n",
      "2018-01-02  262200       NaN      NaN       NaN       NaN  \n",
      "2018-01-03  331100  0.002702      NaN       NaN       NaN  \n",
      "2018-01-04  333800 -0.008000      NaN       NaN       NaN  \n",
      "2018-01-05  308800  0.012593      NaN       NaN       NaN  \n",
      "2018-01-08  311400  0.006310      NaN       NaN       NaN  \n",
      "Index(['Open', 'High', 'Low', 'Close', 'Adj Close', 'Volume', 'Change1',\n",
      "       'Change7', 'Change15', 'Change30'],\n",
      "      dtype='object')\n"
     ]
    }
   ],
   "source": [
    "kospi_test = fdr.DataReader('KS11', '2018-01-01')\n",
    "kospi_test['Change1'] = kospi_test['Close']/kospi_test['Close'].shift(1) - 1\n",
    "kospi_test['Change7'] = kospi_test['Close']/kospi_test['Close'].shift(7) - 1\n",
    "kospi_test['Change15'] = kospi_test['Close']/kospi_test['Close'].shift(15) - 1\n",
    "kospi_test['Change30'] = kospi_test['Close']/kospi_test['Close'].shift(30) - 1\n",
    "print(kospi_test.head())\n",
    "print(kospi_test.columns)"
   ]
  },
  {
   "cell_type": "code",
   "execution_count": 8,
   "id": "c764202d",
   "metadata": {},
   "outputs": [
    {
     "name": "stdout",
     "output_type": "stream",
     "text": [
      "                   Open         High          Low        Close    Adj Close  \\\n",
      "Date                                                                          \n",
      "2018-02-13  2402.889893  2421.800049  2388.540039  2395.189941  2395.189941   \n",
      "2018-02-14  2412.469971  2426.629883  2408.020020  2421.830078  2421.830078   \n",
      "2018-02-19  2452.520020  2455.120117  2428.149902  2442.820068  2442.820068   \n",
      "2018-02-20  2433.350098  2438.479980  2411.229980  2415.120117  2415.120117   \n",
      "2018-02-21  2417.729980  2432.449951  2404.020020  2429.649902  2429.649902   \n",
      "\n",
      "            Volume   Change1   Change7  Change15  Change30  \n",
      "Date                                                        \n",
      "2018-02-13  423400  0.004113 -0.051556 -0.055748 -0.034061  \n",
      "2018-02-14  305700  0.011122 -0.028061 -0.045772 -0.025950  \n",
      "2018-02-19  322100  0.008667 -0.004276 -0.046604 -0.009585  \n",
      "2018-02-20  421500 -0.011339  0.007744 -0.062002 -0.032993  \n",
      "2018-02-21  432300  0.006016  0.009150 -0.064868 -0.033275  \n",
      "Index(['Open', 'High', 'Low', 'Close', 'Adj Close', 'Volume', 'Change1',\n",
      "       'Change7', 'Change15', 'Change30'],\n",
      "      dtype='object')\n"
     ]
    }
   ],
   "source": [
    "kospi_test = kospi_test.dropna()\n",
    "print(kospi_test.head())\n",
    "print(kospi_test.columns)"
   ]
  },
  {
   "cell_type": "code",
   "execution_count": 9,
   "id": "f48c0019",
   "metadata": {},
   "outputs": [
    {
     "name": "stdout",
     "output_type": "stream",
     "text": [
      "Date\n",
      "2018-02-13    2395.189941\n",
      "2018-02-14    2421.830078\n",
      "2018-02-19    2442.820068\n",
      "2018-02-20    2415.120117\n",
      "2018-02-21    2429.649902\n",
      "                 ...     \n",
      "2023-01-30    2450.469971\n",
      "2023-01-31    2425.080078\n",
      "2023-02-01    2449.800049\n",
      "2023-02-02    2468.879883\n",
      "2023-02-03    2480.399902\n",
      "Name: Close, Length: 1223, dtype: float64 Date\n",
      "2018-02-13    0.004113\n",
      "2018-02-14    0.011122\n",
      "2018-02-19    0.008667\n",
      "2018-02-20   -0.011339\n",
      "2018-02-21    0.006016\n",
      "                ...   \n",
      "2023-01-30   -0.013506\n",
      "2023-01-31   -0.010361\n",
      "2023-02-01    0.010193\n",
      "2023-02-02    0.007788\n",
      "2023-02-03    0.004666\n",
      "Name: Change1, Length: 1223, dtype: float64\n"
     ]
    }
   ],
   "source": [
    "kospi_test_close = kospi_test['Close']\n",
    "kospi_test_c1 = kospi_test['Change1']\n",
    "kospi_test_c7 = kospi_test['Change7']\n",
    "kospi_test_c15 = kospi_test['Change15']\n",
    "kospi_test_c30 = kospi_test['Change30']\n",
    "print(kospi_test_close, kospi_test_c1)"
   ]
  },
  {
   "cell_type": "code",
   "execution_count": 10,
   "id": "a8396c4d",
   "metadata": {},
   "outputs": [
    {
     "name": "stdout",
     "output_type": "stream",
     "text": [
      "[0.41125768 1.11223484 0.86669953 ... 1.01934659 0.7788323  0.46660913]\n"
     ]
    }
   ],
   "source": [
    "kospi_train_close = kospi_train_close.values\n",
    "kospi_train_c1 = 100 * kospi_train_c1.values\n",
    "kospi_train_c7 = 100 * kospi_train_c7.values\n",
    "kospi_train_c15 = 100 * kospi_train_c15.values\n",
    "kospi_train_c30 = 100 * kospi_train_c30.values\n",
    "\n",
    "kospi_test_close = kospi_test_close.values\n",
    "kospi_test_c1 = 100 * kospi_test_c1.values\n",
    "kospi_test_c7 = 100 * kospi_test_c7.values\n",
    "kospi_test_c15 = 100 * kospi_test_c15.values\n",
    "kospi_test_c30 = 100 * kospi_test_c30.values\n",
    "print(kospi_test_c1)"
   ]
  },
  {
   "cell_type": "code",
   "execution_count": 31,
   "id": "c1334a32",
   "metadata": {},
   "outputs": [],
   "source": [
    "lookback_window = 60\n",
    "x_train_1, y_train_1 = [], []\n",
    "x_train_7, y_train_7 = [], []\n",
    "x_train_15, y_train_15 = [], []\n",
    "x_train_30, y_train_30 = [], []"
   ]
  },
  {
   "cell_type": "code",
   "execution_count": 32,
   "id": "2ad8662c",
   "metadata": {},
   "outputs": [],
   "source": [
    "for i in range(lookback_window, len(kospi_train_close)-1):\n",
    "    x_train_1.append(kospi_train_close[i - lookback_window:i])\n",
    "    y_train_1.append(kospi_train_c1[i])\n",
    "\n",
    "for i in range(lookback_window, len(kospi_train_close)-6):\n",
    "    x_train_7.append(kospi_train_close[i - lookback_window:i])\n",
    "    y_train_7.append(kospi_train_c7[i+6])\n",
    "\n",
    "for i in range(lookback_window, len(kospi_train_close)-14):\n",
    "    x_train_15.append(kospi_train_close[i - lookback_window:i])\n",
    "    y_train_15.append(kospi_train_c15[i+14])\n",
    "\n",
    "for i in range(lookback_window, len(kospi_train_close)-29):\n",
    "    x_train_30.append(kospi_train_close[i - lookback_window:i])\n",
    "    y_train_30.append(kospi_train_c30[i+29])"
   ]
  },
  {
   "cell_type": "code",
   "execution_count": 33,
   "id": "02aedcdf",
   "metadata": {},
   "outputs": [],
   "source": [
    "for index in range(len(y_train_1)):\n",
    "    if y_train_1[index]>= -0.01 and y_train_1[index] < 0.01:\n",
    "        y_train_1[index] = 'neutral'\n",
    "    elif y_train_1[index] >= 0.01:\n",
    "        y_train_1[index] = 'increase'\n",
    "    else:\n",
    "        y_train_1[index] = 'decrease'\n",
    "        \n",
    "for index in range(len(y_train_7)):\n",
    "    if y_train_7[index]>= -0.01 and y_train_7[index] < 0.01:\n",
    "        y_train_7[index] = 'neutral'\n",
    "    elif y_train_7[index] >= 0.01:\n",
    "        y_train_7[index] = 'increase'\n",
    "    else:\n",
    "        y_train_7[index] = 'decrease'\n",
    "\n",
    "for index in range(len(y_train_15)):\n",
    "    if y_train_15[index]>= -0.01 and y_train_15[index] < 0.01:\n",
    "        y_train_15[index] = 'neutral'\n",
    "    elif y_train_15[index] >= 0.01:\n",
    "        y_train_15[index] = 'increase'\n",
    "    else:\n",
    "        y_train_15[index] = 'decrease'\n",
    "\n",
    "for index in range(len(y_train_30)):\n",
    "    if y_train_30[index]>= -0.01 and y_train_30[index] < 0.01:\n",
    "        y_train_30[index] = 'neutral'\n",
    "    elif y_train_30[index] >= 0.01:\n",
    "        y_train_30[index] = 'increase'\n",
    "    else:\n",
    "        y_train_30[index] = 'decrease'"
   ]
  },
  {
   "cell_type": "code",
   "execution_count": 34,
   "id": "62fa733a",
   "metadata": {},
   "outputs": [
    {
     "data": {
      "image/png": "[encoded data removed]",
      "text/plain": [
       "<Figure size 432x288 with 1 Axes>"
      ]
     },
     "metadata": {
      "needs_background": "light"
     },
     "output_type": "display_data"
    }
   ],
   "source": [
    "import matplotlib.pyplot as plt\n",
    "plt.hist(y_train_1)\n",
    "plt.show()"
   ]
  },
  {
   "cell_type": "code",
   "execution_count": 35,
   "id": "d47ae4ce",
   "metadata": {},
   "outputs": [
    {
     "data": {
      "image/png": "[encoded data removed]",
      "text/plain": [
       "<Figure size 432x288 with 1 Axes>"
      ]
     },
     "metadata": {
      "needs_background": "light"
     },
     "output_type": "display_data"
    }
   ],
   "source": [
    "import matplotlib.pyplot as plt\n",
    "plt.hist(y_train_7)\n",
    "plt.show()"
   ]
  },
  {
   "cell_type": "code",
   "execution_count": 36,
   "id": "d9236e90",
   "metadata": {},
   "outputs": [
    {
     "data": {
      "image/png": "[encoded data removed]",
      "text/plain": [
       "<Figure size 432x288 with 1 Axes>"
      ]
     },
     "metadata": {
      "needs_background": "light"
     },
     "output_type": "display_data"
    }
   ],
   "source": [
    "import matplotlib.pyplot as plt\n",
    "plt.hist(y_train_15)\n",
    "plt.show()"
   ]
  },
  {
   "cell_type": "code",
   "execution_count": 37,
   "id": "bc8f957f",
   "metadata": {},
   "outputs": [
    {
     "data": {
      "image/png": "[encoded data removed]",
      "text/plain": [
       "<Figure size 432x288 with 1 Axes>"
      ]
     },
     "metadata": {
      "needs_background": "light"
     },
     "output_type": "display_data"
    }
   ],
   "source": [
    "import matplotlib.pyplot as plt\n",
    "plt.hist(y_train_30)\n",
    "plt.show()"
   ]
  },
  {
   "cell_type": "code",
   "execution_count": 45,
   "id": "1285c881",
   "metadata": {},
   "outputs": [
    {
     "name": "stdout",
     "output_type": "stream",
     "text": [
      "1922\n"
     ]
    }
   ],
   "source": [
    "print(y_train_30.count('decrease'))"
   ]
  },
  {
   "cell_type": "code",
   "execution_count": 46,
   "id": "612667a3",
   "metadata": {},
   "outputs": [],
   "source": [
    "x_test_1, y_test_1 = [], []\n",
    "x_test_7, y_test_7 = [], []\n",
    "x_test_15, y_test_15 = [], []\n",
    "x_test_30, y_test_30 = [], []"
   ]
  },
  {
   "cell_type": "code",
   "execution_count": 47,
   "id": "c77c5204",
   "metadata": {},
   "outputs": [],
   "source": [
    "for i in range(lookback_window, len(kospi_test_close)-1):\n",
    "    x_test_1.append(kospi_test_close[i - lookback_window:i])\n",
    "    y_test_1.append(kospi_test_c1[i])\n",
    "\n",
    "for i in range(lookback_window, len(kospi_test_close)-6):\n",
    "    x_test_7.append(kospi_test_close[i - lookback_window:i])\n",
    "    y_test_7.append(kospi_test_c7[i+6])\n",
    "\n",
    "for i in range(lookback_window, len(kospi_test_close)-14):\n",
    "    x_test_15.append(kospi_test_close[i - lookback_window:i])\n",
    "    y_test_15.append(kospi_test_c15[i+14])\n",
    "\n",
    "for i in range(lookback_window, len(kospi_test_close)-29):\n",
    "    x_test_30.append(kospi_test_close[i - lookback_window:i])\n",
    "    y_test_30.append(kospi_test_c30[i+29])"
   ]
  },
  {
   "cell_type": "code",
   "execution_count": 48,
   "id": "cb64b3b1",
   "metadata": {},
   "outputs": [],
   "source": [
    "for index in range(len(y_test_1)):\n",
    "    if y_test_1[index]>= -0.01 and y_test_1[index] < 0.01:\n",
    "        y_test_1[index] = 'neutral'\n",
    "    elif y_test_1[index] >= 0.01:\n",
    "        y_test_1[index] = 'increase'\n",
    "    else:\n",
    "        y_test_1[index] = 'decrease'\n",
    "        \n",
    "for index in range(len(y_test_7)):\n",
    "    if y_test_7[index]>= -0.01 and y_test_7[index] < 0.01:\n",
    "        y_test_7[index] = 'neutral'\n",
    "    elif y_test_7[index] >= 0.01:\n",
    "        y_test_7[index] = 'increase'\n",
    "    else:\n",
    "        y_test_7[index] = 'decrease'\n",
    "\n",
    "for index in range(len(y_test_15)):\n",
    "    if y_test_15[index]>= -0.01 and y_test_15[index] < 0.01:\n",
    "        y_test_15[index] = 'neutral'\n",
    "    elif y_test_15[index] >= 0.01:\n",
    "        y_test_15[index] = 'increase'\n",
    "    else:\n",
    "        y_test_15[index] = 'decrease'\n",
    "\n",
    "for index in range(len(y_test_30)):\n",
    "    if y_test_30[index]>= -0.01 and y_test_30[index] < 0.01:\n",
    "        y_test_30[index] = 'neutral'\n",
    "    elif y_test_30[index] >= 0.01:\n",
    "        y_test_30[index] = 'increase'\n",
    "    else:\n",
    "        y_test_30[index] = 'decrease'"
   ]
  },
  {
   "cell_type": "code",
   "execution_count": 54,
   "id": "d3700ddd",
   "metadata": {},
   "outputs": [
    {
     "name": "stdout",
     "output_type": "stream",
     "text": [
      "4\n"
     ]
    }
   ],
   "source": [
    "print(y_test_30.count('neutral'))"
   ]
  }
 ],
 "metadata": {
  "kernelspec": {
   "display_name": "PyTorch 1.13 (NGC 22.05/Python 3.8 Conda) on Backend.AI",
   "language": "python",
   "name": "python3"
  },
  "language_info": {
   "codemirror_mode": {
    "name": "ipython",
    "version": 3
   },
   "file_extension": ".py",
   "mimetype": "text/x-python",
   "name": "python",
   "nbconvert_exporter": "python",
   "pygments_lexer": "ipython3",
   "version": "3.8.13"
  }
 },
 "nbformat": 4,
 "nbformat_minor": 5
}
